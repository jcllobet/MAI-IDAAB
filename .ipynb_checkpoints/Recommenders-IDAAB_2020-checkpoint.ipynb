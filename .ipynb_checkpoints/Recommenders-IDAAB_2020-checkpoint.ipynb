{
 "cells": [
  {
   "cell_type": "markdown",
   "metadata": {},
   "source": [
    "<small><i>Updated January 2020 - This notebook was created by [Santi Seguí](www.cvc.uab.es/people/ssegui/). </i></small>"
   ]
  },
  {
   "cell_type": "markdown",
   "metadata": {},
   "source": [
    "<h1>Recommenders</h1>\n",
    "<br>\n",
    "<div class=\"alert alert-info\" style = \"border-radius:10px;border-width:3px;border-color:darkblue;font-family:Verdana,sans-serif;font-size:16px;\">\n",
    "<h2>Overview of the seminar:</h2>\n",
    "<ul>\n",
    "    <li>What is a recommenders systems?</li>\n",
    "    <li>How the recommenders systems work?</li>\n",
    "    <li>How to evaluate the succes?</li>\n",
    "    <li>How to build a recommendation system? </li>\n",
    "</ul>\n",
    "</div>"
   ]
  },
  {
   "cell_type": "markdown",
   "metadata": {},
   "source": [
    "<h2>What is a recommeder systems?</h2>\n",
    "<div class=\"alert alert-success\" style = \"border-radius:10px;border-width:3px;border-color:darkgreen;font-family:Verdana,sans-serif;font-size:16px;\">\n",
    "<b>Recommender systems are tools designed for interacting with large and complex information spaces and providing information or items that are likely to be of interest to the user, in an automated fashion. </b>\n",
    "<br>\n",
    "\n",
    "</div>\n",
    "\n",
    "<div class=\"alert alert-success\" style = \"border-radius:10px;border-width:3px;border-color:darkgreen;font-family:Verdana,sans-serif;font-size:16px;\">\n",
    "Do we know daily examples of recommendation systems?:\n",
    "\n",
    "<h5>Amazon:</h5>\n",
    "<img src=http://3.bp.blogspot.com/_skxW9kDLt_c/TLfnLNnlnmI/AAAAAAAAfY0/HLqtnI3tItM/s1600/recommender.PNG width=400>\n",
    "<h5>NetFlix:</h5>\n",
    "<img src=https://dataaspirant.files.wordpress.com/2015/01/netflixrec01_616.jpg width=400>\n",
    "<h5>Pandora:</h5>\n",
    "<img src=http://s.hswstatic.com/gif/pandora-hp.jpg width=400>\n",
    "<h5>Linkedin: </h5>\n",
    "<img src=https://dataaspirant.files.wordpress.com/2015/01/linkedin.png width=400>\n",
    "<h5>Facebook (I):</h5>\n",
    "<img src=https://dataaspirant.files.wordpress.com/2015/01/8027583588_0232c7d836_z.jpg width=400>\n",
    "<h5>Facebook (II): </h5>\n",
    "<img src=https://isenbergmarketing.files.wordpress.com/2015/02/marks_year.jpg width=400>\n",
    "\n"
   ]
  },
  {
   "cell_type": "markdown",
   "metadata": {},
   "source": [
    "\n",
    "\n",
    "<div class=\"alert alert-error\" style = \"border-radius:10px;border-width:3px;border-color:darkred;font-family:Verdana,sans-serif;font-size:14px;\">\n",
    "\n",
    "<b>These system are used to be applied considering that your information, taste or preferences used to be static while the used data or items used to be dynamic<b>\n",
    "<br>\n",
    "<h3>But, What they do and how they work?</h3>\n",
    "Several  information can be used from explicit (rating, reviews) to implicit information (navitation, purchases,..) about items and our preferences. User profile and demographics are also important.\n",
    "<br>\n",
    "\n",
    "<h3>and..., Why do we need a recommendation system?</h3>\n",
    "<ul>\n",
    "<li>Solution to large amounts of good data</li>\n",
    "<li>Reduce cognitive load on users</li>\n",
    "<li>Discover new things</li>\n",
    "</ul>\n",
    "</div>\n",
    "\n",
    "\n",
    "\n"
   ]
  },
  {
   "cell_type": "markdown",
   "metadata": {},
   "source": [
    "<div class=\"alert alert-success\" style = \"border-radius:10px;border-width:3px;border-color:darkgreen;font-family:Verdana,sans-serif;font-size:16px;\">\n",
    "        <h2>Types of Recomenders:</h2>\n",
    "        <h3>Non-Personalized filtering</h3>\n",
    "        Non-personalized filtering are based on the description other users give to the item without using any information from the user itself. \n",
    "        <h3>Content-based filtering</h3>\n",
    "        Content-based filtering methods are based on a description of the item and a profile of the user’s preference.\n",
    "        <br>Will recomend the items which are similar to the items we liked.\n",
    "        <br>Need to compute a similarity between items based on the content of the items.\n",
    "        <img src=https://dataaspirant.files.wordpress.com/2015/01/itembased1.png width=400>\n",
    "        <center>Original source: https://dataaspirant.files.wordpress.com</center>\n",
    "        <h3>Collaborative filtering</h3>\n",
    "        Collaborative filtering methods are based on collecting and analyzing a large amount of information on users’ behaviors, activities or preferences and predicting what users will like based on their similarity to other users. \n",
    "        <br><b>Hyphothesis: Similar users tend to like similar items.</b>\n",
    "        <br><b>Requires a user community.</b>\n",
    "        <br>\n",
    "        <br>Collaborative filtering can be of two types: User-based and Item-based.\n",
    "    <ul>\n",
    "        <li>User-based CF works like this: take a user U and a set of other users D whose ratings are similar to the ratings of the selected user U and use the ratings from those like-minded users to calculate a prediction for the selected user U.</li><br>\n",
    "        <li>In Item-based CF you build an item-item matrix determining relationships between pairs of items and using this matrix and data on the current user, infer the user’s taste. Typicaly used in the domain: people who buy x also buy y</li>\n",
    "        </ul>\n",
    "        <img src=https://dataaspirant.files.wordpress.com/2015/01/userbased.png width=700>\n",
    "        <center>Original source: https://dataaspirant.files.wordpress.com</center>\n",
    "        <h3>Hybrid solutions</h3>\n",
    "        Hybrid approaches can be implemented in several ways: by making content-based and collaborative-based predictions separately and then combining them; by adding content-based capabilities to a collaborative-based approach (and vice versa); or by unifying the approaches into one model. \n",
    "        <img src=https://dataaspirant.files.wordpress.com/2015/01/people-who-liked-this-talk-also-liked-building-recommendation-systems-using-ruby-40-6381.jpg width=500>\n",
    "        <center>Original source: https://dataaspirant.files.wordpress.com</center>\n",
    "</div>\n",
    "\n",
    "\n",
    "\n",
    "<table style=\"width:95%\">\n",
    "  <tr >\n",
    "  <td style=\"width:20%\"></td>\n",
    "  <td>Pros</td>\n",
    "  <td>Cons</td>\n",
    "  </tr>\n",
    "  <tr>\n",
    "  <td>Content-Based</td>\n",
    "  <td>No community requiered, comparision between items possible from init</td>\n",
    "  <td>Content description needed; Good explainability, no surprises</td>\n",
    "  </tr>\n",
    "  <tr>\n",
    "  <td>Collaborative</td>\n",
    "  <td>well-understood, works well in several domains; easy to be implemented</td>\n",
    "  <td>Requieres a user community; sparsity problems; no explanation of results; cold-start for new users and items</td>\n",
    "  </tr>\n",
    "\n",
    " </table>\n"
   ]
  },
  {
   "cell_type": "markdown",
   "metadata": {},
   "source": [
    "<div class=\"alert alert-error\">\n",
    "<h3>so..., What do we need to build a recommendation system?</h3>\n",
    "</div>\n",
    "\n",
    "<h2>Steps</h2>\n",
    "+ Data recollection\n",
    "+ Data filtering/cleaning\n",
    "+ Item/user similarity function\n",
    "+ Learning/Prediction funciton"
   ]
  },
  {
   "cell_type": "markdown",
   "metadata": {},
   "source": [
    "<h1><div class=\"alert alert-success\" style = \"border-radius:10px;border-width:3px;border-color:darkgreen;font-family:Verdana,sans-serif;font-size:16px;\">\n",
    "EXAMPLE: Movie Recommender System. User-Based Collaborative Filtering\n",
    "</div>\n",
    "</h1>\n",
    "Given an \"active user\" (Joan) and an item that has not been seen by the user, the goal is to estimate the rating for the item.\n",
    "<table style=\"width:60%\">\n",
    "  <tr>\n",
    "    <td></td>\n",
    "    <td>Superman</td> \n",
    "    <td>Star Wars 1</td>\n",
    "    <td>Matrix</td>\n",
    "    <td>Spiderman</td>\n",
    "    \n",
    "  </tr>\n",
    "  <tr>\n",
    "    <td>Santi</td>\n",
    "    <td>3</td> \n",
    "    <td>3.5</td>\n",
    "    <td>4.5</td>\n",
    "    <td><font color=\"red\"><b>¿?</b></font></td>\n",
    "  </tr>\n",
    "  <tr>\n",
    "    <td>User1</td>\n",
    "    <td>3.5</td> \n",
    "    <td>4</td>\n",
    "    <td>5</td>\n",
    "    <td>5</td>\n",
    "  </tr>\n",
    "  <tr>\n",
    "    <td>User2</td>\n",
    "    <td>3</td> \n",
    "    <td><font color=\"red\"><b>¿?</b></font></td>\n",
    "    <td>4.5</td>\n",
    "    <td>3</td>\n",
    "  </tr>\n",
    "  <tr>\n",
    "    <td>User3</td>\n",
    "    <td>3.5</td> \n",
    "    <td>5</td>\n",
    "    <td>3.5</td>\n",
    "    <td>2</td>\n",
    "  </tr>\n",
    "</table>\n",
    "\n",
    "<br><br><br><br>\n",
    "\n",
    "<h3>How to measure similarity between users?</h3>\n",
    "The computation of the similarity between the items is one critical step in the CF algorithms. The basic idea in similarity computation between two users <i>a</i> and <i>b</i> is to first isolate the items commonly rated by both users (set <i>P</i>), and then to apply a similarity computation technique to determine the similarity.\n",
    "    <ul>\n",
    "    <li>Euclidean distance</li>\n",
    "    $$sim(a,b) = \\sqrt{\\sum_{p \\in P}{(r_{a,p} - r_{b,p})^2}}$$\n",
    "    <br>\n",
    "    <li>Pearson Correlation</li>\n",
    "    $$sim(a,b) = \\frac{\\sum_{p\\in P} (r_{a,p}-\\bar{r_a})(r_{b,p}-\\bar{r_b})}{\\sqrt{\\sum_{p \\in P}(r_{a,p}-\\bar{r_a})²}\\sqrt{\\sum_{p \\in P}(r_{b,p}-\\bar{r_b})²}}$$\n",
    "    <br>\n",
    "    <li>Cosine distance</li>\n",
    "    $$ sim(a,b) = \\frac{\\vec{a}· \\vec{b}}{|\\vec{a}| * |\\vec{b}|}$$\n",
    "    <br>\n",
    "    </ul>\n",
    "  \n",
    "<br>\n",
    "Where: \n",
    "\n",
    "* $sim(a,b)$ is the similarity between user \"a\" and user \"b\"\n",
    "* $P$ is the set of common rated movies by user \"a\" and \"b\"\n",
    "* $r_{a,p}$ is the rating of movie \"p\" by user \"a\"\n",
    "* $\\bar{r_a}$ is the mean rating given by user \"a\"\n",
    "\n",
    "<br>\n",
    "\n",
    "<h3>Some issues to take into accout</h3>\n",
    "<ul>\n",
    "<li>Pearson Correlation used to work better than euclidean distance since it is based more on the ranking than on the values.</li>\n",
    "<li>Cosine distance is usually used when our data is binary/unary, i.e. like vs. not like  or buy vs. not buy.</li>\n",
    "<li>What happens if two users have very few items in common?</li>\n",
    "</ul>\n",
    "\n",
    "\n",
    "<h3>How do we generate a prediction from the neighbour's ratings?</h3><br>\n",
    "\n",
    "$$pred(a,p) = \\frac{\\sum_{b \\in N}{sim(a,b)*(r_{b,p})}}{\\sum_{b \\in N}{sim(a,b)}}$$\n",
    "\n",
    "Example:\n",
    "<br>\n",
    "<table style=\"width:100%\">\n",
    "  <tr>\n",
    "    <td>Critic</td>\n",
    "    <td>$sim(a,b)$</td> \n",
    "    <td>Rating Movie1: $r_{b,p_1}$</td>\n",
    "    <td>$sim(a,b)*(r_{b,p_1})$</td>\n",
    "    <td>Rating Movie2: $r_{b,p_2}$</td>\n",
    "    <td>$sim(a,b)*(r_{b,p_2})$</td>\n",
    "    \n",
    "  </tr>\n",
    "  <tr>\n",
    "    <td>User1</td>\n",
    "    <td>0.99</td> \n",
    "    <td>3</td>\n",
    "    <td>2.97</td>\n",
    "    <td>2.5</td>\n",
    "    <td>2.48</td>\n",
    "    \n",
    "  </tr>\n",
    "  <tr>\n",
    "    <td>User2</td>\n",
    "    <td>0.38</td> \n",
    "    <td>3</td>\n",
    "    <td>1.14</td>\n",
    "    <td>3</td>\n",
    "    <td>1.14</td>\n",
    "  </tr>\n",
    "  <tr>\n",
    "    <td>User3</td>\n",
    "    <td>0.89</td>\n",
    "    <td>4.5</td>\n",
    "    <td>4.0</td>\n",
    "    <td> - </td>\n",
    "    <td> - </td>\n",
    "  </tr>\n",
    "  <tr>\n",
    "    <td>User4</td>\n",
    "    <td>0.92</td>\n",
    "    <td>3</td>\n",
    "    <td>2.77</td>\n",
    "    <td>3</td>\n",
    "    <td>2.77</td>\n",
    "  </tr>\n",
    "  <tr>\n",
    "    <td>$\\sum_{b \\in N}{sim(a,b)*(r_{b,p})}$</td>\n",
    "    <td></td> \n",
    "    <td></td>\n",
    "    <td>10.87</td>\n",
    "    <td></td>\n",
    "    <td>6.39</td>\n",
    "  </tr>\n",
    "  <tr>\n",
    "    <td>$\\sum_{b \\in N}{sim(a,b)}$</td>\n",
    "    <td></td> \n",
    "    <td></td>\n",
    "    <td>3.18</td>\n",
    "    <td></td>\n",
    "    <td>2.29</td>\n",
    "  </tr>\n",
    "  <tr>\n",
    "  <td>$pred(a,p)$</td>\n",
    "    <td></td> \n",
    "    <td></td>\n",
    "    <td>3.41</td>\n",
    "    <td></td>\n",
    "    <td>2.79</td>\n",
    "  </tr>\n",
    "</table>\n",
    "\n",
    "\n",
    "<br>\n",
    "<h3><br><b>How improve this prediction function?</b></h3>\n",
    "<h4> 1) Normalization: Predicitions scaled to the user domain.</h4><br>\n",
    "Users rate differntly, some rate high, while other low. This is the prediction function that was used in the original in Netflix system. Using this function we are scaling the prediction to our mean.<br>\n",
    "\n",
    "$$pred(a,p) = \\bar{r_a} + \\frac{\\sum_{b \\in N}{sim(a,b)*(r_{b,p}-\\bar{r_b})}}{\\sum_{b \\in N}{sim(a,b)}}$$\n",
    "<br>\n",
    "\n",
    "\n",
    "Example:<br>\n",
    "Preciction for the user \"a\" with  $\\bar{r_a} = 3.5$\n",
    "<table style=\"width:100%\">\n",
    "  <tr>\n",
    "    <td>Critic</td>\n",
    "    <td>$sim(a,b)$</td> \n",
    "    <td>Mean Ratings: $\\bar{r_b}$</td>\n",
    "    <td>Rating Movie1: $r_{b,p_1}$</td>\n",
    "    <td>$sim(a,b)*(r_{b,p_1}-\\bar{r_b})$</td>\n",
    "\n",
    "    \n",
    "  </tr>\n",
    "  <tr>\n",
    "    <td>User1</td>\n",
    "    <td>0.99</td> \n",
    "    <td>4.3</td> \n",
    "    <td>3</td>\n",
    "    <td>-1.28</td>\n",
    "\n",
    "    \n",
    "  </tr>\n",
    "  <tr>\n",
    "    <td>User2</td>\n",
    "    <td>0.38</td> \n",
    "    <td>2.73</td> \n",
    "    <td>3</td>\n",
    "    <td>0.10</td>\n",
    "\n",
    "  </tr>\n",
    "  <tr>\n",
    "    <td>User3</td>\n",
    "    <td>0.89</td>\n",
    "    <td>3.12</td>  \n",
    "    <td>4.5</td>\n",
    "    <td>1.22</td>\n",
    "\n",
    "  </tr>\n",
    "  <tr>\n",
    "    <td>User4</td>\n",
    "    <td>0.92</td>\n",
    "    <td>3.98</td>  \n",
    "    <td>3</td>\n",
    "    <td>-0.90</td>\n",
    "\n",
    "  </tr>\n",
    "  <tr>\n",
    "    <td>$\\sum_{b \\in N}{sim(a,b)*(r_{b,p}-\\bar{r_b})}$</td>\n",
    "    <td></td> \n",
    "    <td></td>\n",
    "    <td></td>\n",
    "    <td>-1.13</td>\n",
    "\n",
    "  </tr>\n",
    "  <tr>\n",
    "    <td>$\\sum_{b \\in N}{sim(a,b)}$</td>\n",
    "    <td></td> \n",
    "    <td></td>\n",
    "    <td></td>\n",
    "    <td>3.84</td>\n",
    "\n",
    "  </tr>\n",
    "  <tr>\n",
    "  <td>$pred(a,p)$</td>\n",
    "    <td></td> \n",
    "    <td></td>\n",
    "    <td></td>\n",
    "    <td>3.20</td>\n",
    "\n",
    "  </tr>\n",
    "</table>\n",
    "\n",
    "<h4> 2) Not all neighbor rating might be equally.</h4><br>\n",
    "Agreeement on commonly liked items is not as important as agreeement on controversial items. we can give a weigth correlated with the rating variance.\n",
    "\n",
    "<h4> 3) Value of number of co-rated items</h4>\n",
    "Reduce the similarity between users when the number of co-rated items is low or discard those users with a small number of co-rated items\n",
    "\n",
    "<h4> 4) Case amplificiation </h4>\n",
    "Increase the weigth to those users which are really really similars (~= 1)\n",
    "\n",
    "<h4> 5) Neighborhood selection</h4>\n",
    "Only a subset of similar user used to be used. Not-similar users used to be discarded\n",
    "\n",
    "<h4> 6) Recursive Methods</h4>\n",
    "In order to avoid cold-start we can apply a recursive method for new users.\n",
    "\n",
    "\n",
    "\n",
    "\n",
    "<h3>Problems:</h3><br>\n",
    "<ul>\n",
    "<li>\"Memory-based\" approach</li>\n",
    "<li>Need to be trained offline and updateted periodically</li>\n",
    "</ul>"
   ]
  },
  {
   "cell_type": "markdown",
   "metadata": {},
   "source": [
    "<h3>Evaluation: performance criterion</h3>\n",
    "Performance evaluation of recommendation systems is an entire topic all in itself. Some of the options include:<br>\n",
    "* $RMSE = \\sqrt{(\\frac{\\sum(\\hat{y}-y)^2}{n})}$\n",
    "<br>\n",
    "* Precision / Recall / F-scores\n",
    "* ROC curves\n",
    "* Cost curves"
   ]
  },
  {
   "cell_type": "code",
   "execution_count": 1,
   "metadata": {},
   "outputs": [],
   "source": [
    "def compute_rmse(y_pred, y_true):\n",
    "    \"\"\" Compute Root Mean Squared Error. \"\"\"\n",
    "    return np.sqrt(np.mean(np.power(y_pred - y_true, 2)))"
   ]
  },
  {
   "cell_type": "markdown",
   "metadata": {},
   "source": [
    "<h5>Download Movilens Database</h5>\n",
    "There is three different version of the database containing 100k, 1m and 10m ratings. We can download the smallest version for this demo.\n",
    "\n",
    "http://grouplens.org/datasets/movielens/\n",
    "\n"
   ]
  },
  {
   "cell_type": "code",
   "execution_count": 3,
   "metadata": {
    "scrolled": true
   },
   "outputs": [
    {
     "data": {
      "application/javascript": [
       "IPython.notebook.set_autosave_interval(150000)"
      ]
     },
     "metadata": {},
     "output_type": "display_data"
    },
    {
     "name": "stdout",
     "output_type": "stream",
     "text": [
      "Autosaving every 150 seconds\n",
      "La BD has 100000 ratings\n",
      "La BD has  943  users\n",
      "La BD has  1682  movies\n",
      "   user_id         title  movie_id  rating release_date sex  age\n",
      "0      196  Kolya (1996)       242       3  24-Jan-1997   M   49\n",
      "1      305  Kolya (1996)       242       5  24-Jan-1997   M   23\n",
      "2        6  Kolya (1996)       242       4  24-Jan-1997   M   42\n",
      "3      234  Kolya (1996)       242       4  24-Jan-1997   M   60\n",
      "4       63  Kolya (1996)       242       3  24-Jan-1997   M   31\n"
     ]
    }
   ],
   "source": [
    "#NETFLIX REAL 50.000.000 usuaris and 100.000 items\n",
    "%autosave 150\n",
    "%matplotlib inline\n",
    "import pandas as pd\n",
    "import numpy as np\n",
    "import math\n",
    "import matplotlib.pylab as plt\n",
    "\n",
    "# Load Data set\n",
    "u_cols = ['user_id', 'age', 'sex', 'occupation', 'zip_code']\n",
    "users = pd.read_csv('ml-100k/u.user', sep='|', names=u_cols)\n",
    "\n",
    "r_cols = ['user_id', 'movie_id', 'rating', 'unix_timestamp']\n",
    "ratings = pd.read_csv('ml-100k/u.data', sep='\\t', names=r_cols)\n",
    "\n",
    "# the movies file contains columns indicating the movie's genres\n",
    "# let's only load the first three columns of the file with usecols\n",
    "m_cols = ['movie_id', 'title', 'release_date']\n",
    "movies = pd.read_csv('ml-100k/u.item', sep='|', names=m_cols, usecols=range(3), encoding='latin-1')\n",
    "\n",
    "# Construcció del DataFrame\n",
    "data = pd.merge(pd.merge(ratings, users), movies)\n",
    "data = data[['user_id','title', 'movie_id','rating','release_date','sex','age']]\n",
    "\n",
    "\n",
    "print(\"La BD has \"+ str(data.shape[0]) +\" ratings\")\n",
    "print(\"La BD has \", data.user_id.nunique(),\" users\")\n",
    "print(\"La BD has \", data.movie_id.nunique(), \" movies\")\n",
    "print(data.head())\n"
   ]
  },
  {
   "cell_type": "markdown",
   "metadata": {},
   "source": [
    "##### Divide the data in two sets: training and test"
   ]
  },
  {
   "cell_type": "code",
   "execution_count": 4,
   "metadata": {},
   "outputs": [
    {
     "name": "stdout",
     "output_type": "stream",
     "text": [
      "(79619, 8)\n",
      "(20381, 8)\n",
      "Int64Index([], dtype='int64')\n",
      "Training data_set has 79619 ratings\n",
      "Test data set has 20381 ratings\n",
      "La BD has  1682  movies\n"
     ]
    }
   ],
   "source": [
    "def assign_to_set(df):\n",
    "    sampled_ids = np.random.choice(df.index,\n",
    "                                   size=np.int64(np.ceil(df.index.size * 0.2)),\n",
    "                                   replace=False)\n",
    "    df.loc[sampled_ids, 'for_testing'] = True\n",
    "    return df\n",
    "\n",
    "data['for_testing'] = False\n",
    "grouped = data.groupby('user_id', group_keys=False).apply(assign_to_set)\n",
    "data_train = data[grouped.for_testing == False]\n",
    "data_test = data[grouped.for_testing == True]\n",
    "print(data_train.shape)\n",
    "print(data_test.shape)\n",
    "print(data_train.index & data_test.index)\n",
    "\n",
    "print(\"Training data_set has \"+ str(data_train.shape[0]) +\" ratings\")\n",
    "print(\"Test data set has \"+ str(data_test.shape[0]) +\" ratings\")\n",
    "print(\"La BD has \", data.movie_id.nunique(), \" movies\")\n"
   ]
  },
  {
   "cell_type": "markdown",
   "metadata": {},
   "source": [
    "##### How to get the set of movies from user with id  \"1\"?"
   ]
  },
  {
   "cell_type": "code",
   "execution_count": 5,
   "metadata": {},
   "outputs": [
    {
     "data": {
      "text/html": [
       "<div>\n",
       "<style scoped>\n",
       "    .dataframe tbody tr th:only-of-type {\n",
       "        vertical-align: middle;\n",
       "    }\n",
       "\n",
       "    .dataframe tbody tr th {\n",
       "        vertical-align: top;\n",
       "    }\n",
       "\n",
       "    .dataframe thead th {\n",
       "        text-align: right;\n",
       "    }\n",
       "</style>\n",
       "<table border=\"1\" class=\"dataframe\">\n",
       "  <thead>\n",
       "    <tr style=\"text-align: right;\">\n",
       "      <th></th>\n",
       "      <th>user_id</th>\n",
       "      <th>title</th>\n",
       "      <th>movie_id</th>\n",
       "      <th>rating</th>\n",
       "      <th>release_date</th>\n",
       "      <th>sex</th>\n",
       "      <th>age</th>\n",
       "      <th>for_testing</th>\n",
       "    </tr>\n",
       "  </thead>\n",
       "  <tbody>\n",
       "    <tr>\n",
       "      <td>14</td>\n",
       "      <td>1</td>\n",
       "      <td>Kolya (1996)</td>\n",
       "      <td>242</td>\n",
       "      <td>5</td>\n",
       "      <td>24-Jan-1997</td>\n",
       "      <td>M</td>\n",
       "      <td>24</td>\n",
       "      <td>False</td>\n",
       "    </tr>\n",
       "    <tr>\n",
       "      <td>417</td>\n",
       "      <td>1</td>\n",
       "      <td>Shall We Dance? (1996)</td>\n",
       "      <td>251</td>\n",
       "      <td>4</td>\n",
       "      <td>11-Jul-1997</td>\n",
       "      <td>M</td>\n",
       "      <td>24</td>\n",
       "      <td>False</td>\n",
       "    </tr>\n",
       "    <tr>\n",
       "      <td>940</td>\n",
       "      <td>1</td>\n",
       "      <td>Raising Arizona (1987)</td>\n",
       "      <td>238</td>\n",
       "      <td>4</td>\n",
       "      <td>01-Jan-1987</td>\n",
       "      <td>M</td>\n",
       "      <td>24</td>\n",
       "      <td>False</td>\n",
       "    </tr>\n",
       "    <tr>\n",
       "      <td>1306</td>\n",
       "      <td>1</td>\n",
       "      <td>Truth About Cats &amp; Dogs, The (1996)</td>\n",
       "      <td>111</td>\n",
       "      <td>5</td>\n",
       "      <td>26-Apr-1996</td>\n",
       "      <td>M</td>\n",
       "      <td>24</td>\n",
       "      <td>False</td>\n",
       "    </tr>\n",
       "    <tr>\n",
       "      <td>1618</td>\n",
       "      <td>1</td>\n",
       "      <td>Birdcage, The (1996)</td>\n",
       "      <td>25</td>\n",
       "      <td>4</td>\n",
       "      <td>08-Mar-1996</td>\n",
       "      <td>M</td>\n",
       "      <td>24</td>\n",
       "      <td>False</td>\n",
       "    </tr>\n",
       "  </tbody>\n",
       "</table>\n",
       "</div>"
      ],
      "text/plain": [
       "      user_id                                title  movie_id  rating  \\\n",
       "14          1                         Kolya (1996)       242       5   \n",
       "417         1               Shall We Dance? (1996)       251       4   \n",
       "940         1               Raising Arizona (1987)       238       4   \n",
       "1306        1  Truth About Cats & Dogs, The (1996)       111       5   \n",
       "1618        1                 Birdcage, The (1996)        25       4   \n",
       "\n",
       "     release_date sex  age  for_testing  \n",
       "14    24-Jan-1997   M   24        False  \n",
       "417   11-Jul-1997   M   24        False  \n",
       "940   01-Jan-1987   M   24        False  \n",
       "1306  26-Apr-1996   M   24        False  \n",
       "1618  08-Mar-1996   M   24        False  "
      ]
     },
     "execution_count": 5,
     "metadata": {},
     "output_type": "execute_result"
    }
   ],
   "source": [
    "data_train[data_train.user_id==1].head(5)"
   ]
  },
  {
   "cell_type": "markdown",
   "metadata": {},
   "source": [
    "##### Mean Rating of movies seen by user \"1\""
   ]
  },
  {
   "cell_type": "code",
   "execution_count": 6,
   "metadata": {},
   "outputs": [
    {
     "data": {
      "text/plain": [
       "3.585253456221198"
      ]
     },
     "execution_count": 6,
     "metadata": {},
     "output_type": "execute_result"
    }
   ],
   "source": [
    "data_train[data_train.user_id==1].rating.mean()"
   ]
  },
  {
   "cell_type": "markdown",
   "metadata": {},
   "source": [
    "##### Mean rating of movie with title \"Seven (Se7en) (1995)\""
   ]
  },
  {
   "cell_type": "code",
   "execution_count": 7,
   "metadata": {},
   "outputs": [
    {
     "data": {
      "text/plain": [
       "3.8876404494382024"
      ]
     },
     "execution_count": 7,
     "metadata": {},
     "output_type": "execute_result"
    }
   ],
   "source": [
    "data_train.rating[data_train.title==\"Seven (Se7en) (1995)\"].mean()"
   ]
  },
  {
   "cell_type": "markdown",
   "metadata": {},
   "source": [
    "##### Which are the 10 most rated movies?"
   ]
  },
  {
   "cell_type": "code",
   "execution_count": 8,
   "metadata": {},
   "outputs": [
    {
     "data": {
      "text/plain": [
       "title\n",
       "Star Wars (1977)                 471\n",
       "Fargo (1996)                     413\n",
       "Return of the Jedi (1983)        402\n",
       "Contact (1997)                   396\n",
       "Liar Liar (1997)                 384\n",
       "English Patient, The (1996)      384\n",
       "Scream (1996)                    376\n",
       "Toy Story (1995)                 370\n",
       "Air Force One (1997)             339\n",
       "Independence Day (ID4) (1996)    335\n",
       "dtype: int64"
      ]
     },
     "execution_count": 8,
     "metadata": {},
     "output_type": "execute_result"
    }
   ],
   "source": [
    "data_train.groupby('title').size().sort_values(ascending=False).head(10)"
   ]
  },
  {
   "cell_type": "markdown",
   "metadata": {},
   "source": [
    "##### Which are the 10 movies with the highest score"
   ]
  },
  {
   "cell_type": "code",
   "execution_count": 9,
   "metadata": {},
   "outputs": [
    {
     "data": {
      "text/plain": [
       "title\n",
       "The Deadly Cure (1996)                    5.0\n",
       "World of Apu, The (Apur Sansar) (1959)    5.0\n",
       "Saint of Fort Washington, The (1993)      5.0\n",
       "Golden Earrings (1947)                    5.0\n",
       "Star Kid (1997)                           5.0\n",
       "Great Day in Harlem, A (1994)             5.0\n",
       "Prefontaine (1997)                        5.0\n",
       "They Made Me a Criminal (1939)            5.0\n",
       "Aiqing wansui (1994)                      5.0\n",
       "Faust (1994)                              5.0\n",
       "Name: rating, dtype: float64"
      ]
     },
     "execution_count": 9,
     "metadata": {},
     "output_type": "execute_result"
    }
   ],
   "source": [
    "data_train.groupby('title').rating.mean().sort_values(ascending=False).head(10)"
   ]
  },
  {
   "cell_type": "code",
   "execution_count": 10,
   "metadata": {},
   "outputs": [
    {
     "data": {
      "text/plain": [
       "title\n",
       "Faust (1994)                              5.0\n",
       "Aiqing wansui (1994)                      5.0\n",
       "They Made Me a Criminal (1939)            5.0\n",
       "Prefontaine (1997)                        5.0\n",
       "Great Day in Harlem, A (1994)             5.0\n",
       "Star Kid (1997)                           5.0\n",
       "Golden Earrings (1947)                    5.0\n",
       "Saint of Fort Washington, The (1993)      5.0\n",
       "World of Apu, The (Apur Sansar) (1959)    5.0\n",
       "The Deadly Cure (1996)                    5.0\n",
       "Name: rating, dtype: float64"
      ]
     },
     "execution_count": 10,
     "metadata": {},
     "output_type": "execute_result"
    }
   ],
   "source": [
    "data_train.groupby('title').rating.mean().sort_values().tail(10)"
   ]
  },
  {
   "cell_type": "markdown",
   "metadata": {},
   "source": [
    "##### Top movies rated more than 50 times"
   ]
  },
  {
   "cell_type": "code",
   "execution_count": 16,
   "metadata": {},
   "outputs": [
    {
     "data": {
      "text/plain": [
       "title\n",
       "Wrong Trousers, The (1993)          4.494845\n",
       "Schindler's List (1993)             4.465306\n",
       "Casablanca (1942)                   4.464088\n",
       "Close Shave, A (1995)               4.439024\n",
       "Shawshank Redemption, The (1994)    4.434959\n",
       "Name: rating, dtype: float64"
      ]
     },
     "execution_count": 16,
     "metadata": {},
     "output_type": "execute_result"
    }
   ],
   "source": [
    "size = data_train.groupby('title').size()\n",
    "mean_score = data_train.groupby('title').rating.mean()\n",
    "mean_score[size>50].sort_values(ascending=False).head()"
   ]
  },
  {
   "cell_type": "markdown",
   "metadata": {},
   "source": [
    "##### Which is the distibution of rated movies per user?"
   ]
  },
  {
   "cell_type": "code",
   "execution_count": 22,
   "metadata": {},
   "outputs": [
    {
     "data": {
      "text/plain": [
       "<matplotlib.axes._subplots.AxesSubplot at 0x7fd1ebced550>"
      ]
     },
     "execution_count": 22,
     "metadata": {},
     "output_type": "execute_result"
    },
    {
     "data": {
      "image/png": "[encoded data removed]",
      "text/plain": [
       "<Figure size 432x288 with 1 Axes>"
      ]
     },
     "metadata": {
      "needs_background": "light"
     },
     "output_type": "display_data"
    }
   ],
   "source": [
    "# It doesn't start at 0 since users are asked to rate at least 16 movies\n",
    "rated_movies = data_train.groupby('user_id').size().sort_values(ascending=False)\n",
    "rated_movies.hist(bins=100)"
   ]
  },
  {
   "cell_type": "markdown",
   "metadata": {},
   "source": [
    "##### Which is the mean movie scores per year?"
   ]
  },
  {
   "cell_type": "code",
   "execution_count": 23,
   "metadata": {},
   "outputs": [
    {
     "name": "stderr",
     "output_type": "stream",
     "text": [
      "/home/jan/anaconda3/lib/python3.7/site-packages/ipykernel_launcher.py:2: SettingWithCopyWarning: \n",
      "A value is trying to be set on a copy of a slice from a DataFrame.\n",
      "Try using .loc[row_indexer,col_indexer] = value instead\n",
      "\n",
      "See the caveats in the documentation: http://pandas.pydata.org/pandas-docs/stable/user_guide/indexing.html#returning-a-view-versus-a-copy\n",
      "  \n"
     ]
    },
    {
     "data": {
      "text/plain": [
       "(3.0, 4.3979591836734695)"
      ]
     },
     "execution_count": 23,
     "metadata": {},
     "output_type": "execute_result"
    },
    {
     "data": {
      "image/png": "[encoded data removed]",
      "text/plain": [
       "<Figure size 432x288 with 1 Axes>"
      ]
     },
     "metadata": {
      "needs_background": "light"
     },
     "output_type": "display_data"
    }
   ],
   "source": [
    "from math import isnan\n",
    "data_train['release_year'] = data_train['release_date'].apply(lambda x: int(str(x)[-4:]) \n",
    "                                                                    if isnan(float(str(x)[-4:]))==False \n",
    "                                                                    else 2010)\n",
    "rank_per_year = data_train.groupby('release_year')['rating'].mean()\n",
    "plt.bar(rank_per_year.keys(), rank_per_year, facecolor='#9999ff', edgecolor='white')\n",
    "plt.ylabel(\"Mean Score\")\n",
    "plt.ylim((min(rank_per_year),max(rank_per_year)))"
   ]
  },
  {
   "cell_type": "markdown",
   "metadata": {},
   "source": [
    "##### Which movies are most controversial amongst different ages?"
   ]
  },
  {
   "cell_type": "code",
   "execution_count": 24,
   "metadata": {},
   "outputs": [
    {
     "data": {
      "image/png": "[encoded data removed]",
      "text/plain": [
       "<Figure size 432x288 with 1 Axes>"
      ]
     },
     "metadata": {
      "needs_background": "light"
     },
     "output_type": "display_data"
    },
    {
     "name": "stdout",
     "output_type": "stream",
     "text": [
      "   movie_id  age age_group\n",
      "1       242   23     20-29\n",
      "2       242   42     40-49\n",
      "3       242   60     60-69\n",
      "4       242   31     30-39\n",
      "6       242   27     20-29\n",
      "          rating          \n",
      "            size      mean\n",
      "age_group                 \n",
      "0-9           34  3.735294\n",
      "10-19       6511  3.475503\n",
      "20-29      31490  3.463258\n",
      "30-39      20465  3.555485\n",
      "40-49      11951  3.590327\n",
      "50-59       6926  3.642218\n",
      "60-69       2087  3.627695\n",
      "70-79        155  3.658065\n"
     ]
    },
    {
     "name": "stderr",
     "output_type": "stream",
     "text": [
      "/home/jan/anaconda3/lib/python3.7/site-packages/ipykernel_launcher.py:8: SettingWithCopyWarning: \n",
      "A value is trying to be set on a copy of a slice from a DataFrame.\n",
      "Try using .loc[row_indexer,col_indexer] = value instead\n",
      "\n",
      "See the caveats in the documentation: http://pandas.pydata.org/pandas-docs/stable/user_guide/indexing.html#returning-a-view-versus-a-copy\n",
      "  \n"
     ]
    }
   ],
   "source": [
    "users.age.hist(bins=100)\n",
    "plt.title(\"Distribution of users' ages\")\n",
    "plt.ylabel('count of users')\n",
    "plt.xlabel('age')\n",
    "plt.show()\n",
    "\n",
    "labels = ['0-9', '10-19', '20-29', '30-39', '40-49', '50-59', '60-69', '70-79']\n",
    "data_train['age_group'] = pd.cut(data_train.age, range(0, 81, 10), right=False, labels=labels)\n",
    "print(data_train[['movie_id','age', 'age_group']].head())\n",
    "\n",
    "print(data_train.groupby('age_group').agg({'rating': [np.size, np.mean]}).copy())\n"
   ]
  },
  {
   "cell_type": "markdown",
   "metadata": {},
   "source": [
    "<h6>1- Filter films that have received at least 250 ratings:</h6>\n",
    "\n"
   ]
  },
  {
   "cell_type": "code",
   "execution_count": 25,
   "metadata": {},
   "outputs": [
    {
     "name": "stdout",
     "output_type": "stream",
     "text": [
      "title\n",
      "2001: A Space Odyssey (1968)    259\n",
      "Air Force One (1997)            431\n",
      "Alien (1979)                    291\n",
      "Aliens (1986)                   284\n",
      "Amadeus (1984)                  276\n",
      "dtype: int64\n",
      "Index(['2001: A Space Odyssey (1968)', 'Air Force One (1997)', 'Alien (1979)',\n",
      "       'Aliens (1986)', 'Amadeus (1984)'],\n",
      "      dtype='object', name='title')\n"
     ]
    }
   ],
   "source": [
    "#Exercici 1\n",
    "ratings_by_title = data.groupby('title').size()\n",
    "print(ratings_by_title[ratings_by_title >= 250].head())\n",
    "\n",
    "active_titles = ratings_by_title.index[ratings_by_title >= 250]\n",
    "print(active_titles[:5])"
   ]
  },
  {
   "cell_type": "markdown",
   "metadata": {},
   "source": [
    "<h6>2- Obtain the mean ratings for each movie grouped by gender that have at least 250 ratings. </h6>\n",
    "\n"
   ]
  },
  {
   "cell_type": "code",
   "execution_count": 26,
   "metadata": {},
   "outputs": [
    {
     "name": "stdout",
     "output_type": "stream",
     "text": [
      "sex                                  F         M\n",
      "title                                           \n",
      "2001: A Space Odyssey (1968)  3.491228  4.103960\n",
      "Air Force One (1997)          3.690476  3.606557\n",
      "Alien (1979)                  3.660714  4.123404\n",
      "Aliens (1986)                 3.672727  4.013100\n",
      "Amadeus (1984)                4.038961  4.211055\n",
      "Apollo 13 (1995)              4.000000  3.909953\n",
      "Back to the Future (1985)     3.766667  3.857692\n",
      "Birdcage, The (1996)          3.670455  3.346341\n",
      "Blade Runner (1982)           3.979167  4.171806\n",
      "Blues Brothers, The (1980)    3.782609  3.848780\n"
     ]
    }
   ],
   "source": [
    "mean_ratings = data.pivot_table('rating', index='title',columns='sex', aggfunc='mean')\n",
    "mean_ratings = mean_ratings.loc[active_titles]\n",
    "print(mean_ratings[:10])\n"
   ]
  },
  {
   "cell_type": "markdown",
   "metadata": {},
   "source": [
    "<h6>3- Show films more valued by women.</h6>\n",
    "\n"
   ]
  },
  {
   "cell_type": "code",
   "execution_count": 27,
   "metadata": {},
   "outputs": [
    {
     "data": {
      "text/plain": [
       "title\n",
       "Schindler's List (1993)                   4.632911\n",
       "Shawshank Redemption, The (1994)          4.562500\n",
       "Usual Suspects, The (1995)                4.333333\n",
       "Silence of the Lambs, The (1991)          4.320000\n",
       "Titanic (1997)                            4.278846\n",
       "Sense and Sensibility (1995)              4.252632\n",
       "Star Wars (1977)                          4.245033\n",
       "Fugitive, The (1993)                      4.166667\n",
       "One Flew Over the Cuckoo's Nest (1975)    4.150000\n",
       "Godfather, The (1972)                     4.133333\n",
       "Name: F, dtype: float64"
      ]
     },
     "execution_count": 27,
     "metadata": {},
     "output_type": "execute_result"
    }
   ],
   "source": [
    "top_female_ratings = mean_ratings.sort_values(by='F', ascending=False)\n",
    "top_female_ratings[:10].F"
   ]
  },
  {
   "cell_type": "markdown",
   "metadata": {},
   "source": [
    "<h6> 4- Now we wonder which movies are rated more differently between men and women. Which films have more different rating and are more highly valued by women? And the films preferred by men which women did not like? What are the films that have generated the most discordant ratings, regardless of gender?</h6>\n",
    "\n"
   ]
  },
  {
   "cell_type": "code",
   "execution_count": 29,
   "metadata": {},
   "outputs": [
    {
     "name": "stdout",
     "output_type": "stream",
     "text": [
      "sex                                                  F         M      diff\n",
      "title                                                                     \n",
      "Sense and Sensibility (1995)                  4.252632  3.878613 -0.374019\n",
      "Independence Day (ID4) (1996)                 3.688679  3.356037 -0.332642\n",
      "Birdcage, The (1996)                          3.670455  3.346341 -0.324113\n",
      "Truth About Cats & Dogs, The (1996)           3.690722  3.371429 -0.319293\n",
      "Rock, The (1996)                              3.879121  3.634146 -0.244975\n",
      "Mr. Holland's Opus (1995)                     3.945652  3.701493 -0.244160\n",
      "Schindler's List (1993)                       4.632911  4.406393 -0.226519\n",
      "Broken Arrow (1996)                           3.211538  2.985149 -0.226390\n",
      "Mission: Impossible (1996)                    3.487179  3.263158 -0.224022\n",
      "English Patient, The (1996)                   3.809211  3.586626 -0.222584\n",
      "Star Trek: First Contact (1996)               3.835616  3.616438 -0.219178\n",
      "Raising Arizona (1987)                        4.016949  3.832487 -0.184462\n",
      "Saint, The (1997)                             3.247059  3.077922 -0.169137\n",
      "Willy Wonka and the Chocolate Factory (1971)  3.752688  3.583691 -0.168997\n",
      "Fugitive, The (1993)                          4.166667  4.011364 -0.155303\n",
      "sex                                            F         M      diff\n",
      "title                                                               \n",
      "2001: A Space Odyssey (1968)            3.491228  4.103960  0.612732\n",
      "Terminator, The (1984)                  3.524590  4.037500  0.512910\n",
      "Alien (1979)                            3.660714  4.123404  0.462690\n",
      "Aliens (1986)                           3.672727  4.013100  0.340373\n",
      "Empire Strikes Back, The (1980)         3.978022  4.278986  0.300964\n",
      "Twelve Monkeys (1995)                   3.560976  3.861290  0.300315\n",
      "Monty Python and the Holy Grail (1974)  3.863636  4.120000  0.256364\n",
      "Jaws (1975)                             3.578125  3.833333  0.255208\n",
      "Raiders of the Lost Ark (1981)          4.084211  4.301538  0.217328\n",
      "Terminator 2: Judgment Day (1991)       3.833333  4.045643  0.212310\n",
      "Godfather, The (1972)                   4.133333  4.334416  0.201082\n",
      "Groundhog Day (1993)                    3.611940  3.812207  0.200266\n",
      "Blade Runner (1982)                     3.979167  4.171806  0.192640\n",
      "Fargo (1996)                            4.016000  4.201044  0.185044\n",
      "title\n",
      "Evita (1996)                                    1.234051\n",
      "Leaving Las Vegas (1995)                        1.170368\n",
      "English Patient, The (1996)                     1.169401\n",
      "Pulp Fiction (1994)                             1.150880\n",
      "Saint, The (1997)                               1.141131\n",
      "Independence Day (ID4) (1996)                   1.116584\n",
      "Scream (1996)                                   1.113910\n",
      "Twister (1996)                                  1.106416\n",
      "Liar Liar (1997)                                1.098544\n",
      "Willy Wonka and the Chocolate Factory (1971)    1.095204\n",
      "Name: rating, dtype: float64\n"
     ]
    }
   ],
   "source": [
    "mean_ratings['diff'] = mean_ratings['M'] - mean_ratings['F']\n",
    "#Sort by'diff':  films have more different rating and are more highly valued by women\n",
    "sorted_by_diff = mean_ratings.sort_values(by='diff')\n",
    "print(sorted_by_diff[:15])\n",
    "\n",
    "#Switching the order we get the films preferred by men which doesn't liked women\n",
    "print(sorted_by_diff[:-15:-1])\n",
    "\n",
    "# We can use standard deviation of the ratings to find the films that have generated the most discordant ratings, regardless of gender\n",
    "\n",
    "# Standard deviation of rating grouped by title\n",
    "rating_std_by_title = data.groupby('title')['rating'].std()\n",
    "# Filter down to active_titles\n",
    "rating_std_by_title = rating_std_by_title.loc[active_titles]\n",
    "print(rating_std_by_title.sort_values(ascending=False)[:10])"
   ]
  },
  {
   "cell_type": "markdown",
   "metadata": {},
   "source": [
    "<h6>5- Calculate the average rating of each user. </h6>\n",
    "\n",
    "\n"
   ]
  },
  {
   "cell_type": "code",
   "execution_count": 30,
   "metadata": {},
   "outputs": [
    {
     "data": {
      "text/plain": [
       "user_id\n",
       "1     3.610294\n",
       "2     3.709677\n",
       "3     2.796296\n",
       "4     4.333333\n",
       "5     2.874286\n",
       "6     3.635071\n",
       "7     3.965261\n",
       "8     3.796610\n",
       "9     4.272727\n",
       "10    4.206522\n",
       "11    3.464088\n",
       "12    4.392157\n",
       "13    3.097484\n",
       "14    4.091837\n",
       "15    2.875000\n",
       "Name: rating, dtype: float64"
      ]
     },
     "execution_count": 30,
     "metadata": {},
     "output_type": "execute_result"
    }
   ],
   "source": [
    "mean_rating_by_user = data.groupby('user_id')['rating'].mean()\n",
    "mean_rating_by_user[:15]"
   ]
  },
  {
   "cell_type": "markdown",
   "metadata": {},
   "source": [
    "<h6>6- What is the highest rated movie in average?</h6>\n",
    "\n"
   ]
  },
  {
   "cell_type": "code",
   "execution_count": 31,
   "metadata": {},
   "outputs": [
    {
     "name": "stdout",
     "output_type": "stream",
     "text": [
      "title\n",
      "Marlene Dietrich: Shadow and Light (1996)     5.0\n",
      "Name: rating, dtype: float64\n",
      "title\n",
      "Schindler's List (1993)    4.466443\n",
      "Name: rating, dtype: float64\n"
     ]
    }
   ],
   "source": [
    "print(data.groupby('title')['rating'].mean().sort_values(ascending=False)[:1])\n",
    "\n",
    "print(data.groupby('title')['rating'].mean().loc[active_titles].sort_values(ascending=False)[:1])\n"
   ]
  },
  {
   "cell_type": "markdown",
   "metadata": {},
   "source": [
    "<h6>7- Define a function called  <b>top_movies</b> that given a user it returns what movies have the highest rank for this user.</h6>\n",
    "\n",
    "def top_movies(user)"
   ]
  },
  {
   "cell_type": "code",
   "execution_count": 32,
   "metadata": {},
   "outputs": [
    {
     "name": "stdout",
     "output_type": "stream",
     "text": [
      "Max puntuation of user 2 is: 5\n"
     ]
    },
    {
     "data": {
      "text/plain": [
       "32                        Kolya (1996)\n",
       "424             Shall We Dance? (1996)\n",
       "4627             Secrets & Lies (1996)\n",
       "6455          L.A. Confidential (1997)\n",
       "11911                     Fargo (1996)\n",
       "32768            Godfather, The (1972)\n",
       "33462                 Star Wars (1977)\n",
       "55954                   Titanic (1997)\n",
       "58130    Wings of the Dove, The (1997)\n",
       "63360     Sense and Sensibility (1995)\n",
       "71232         Good Will Hunting (1997)\n",
       "78981                      Emma (1996)\n",
       "82001        As Good As It Gets (1997)\n",
       "Name: title, dtype: object"
      ]
     },
     "execution_count": 32,
     "metadata": {},
     "output_type": "execute_result"
    }
   ],
   "source": [
    "def top_movies(dataFrame,usr):\n",
    "    max_i = dataFrame[dataFrame.user_id == usr].rating.max() \n",
    "    print(\"Max puntuation of user\", usr, \"is:\", max_i)\n",
    "    return dataFrame[(dataFrame['user_id'] == usr) & (dataFrame['rating'] == max_i )].title\n",
    "\n",
    "top_movies(data,2)"
   ]
  },
  {
   "cell_type": "markdown",
   "metadata": {},
   "source": [
    "##### <h5>Which is the similarity between user 1 and user 2?</h5> <h6>Let's look first for the common seen movies by the users </h6>"
   ]
  },
  {
   "cell_type": "code",
   "execution_count": 33,
   "metadata": {},
   "outputs": [
    {
     "name": "stdout",
     "output_type": "stream",
     "text": [
      "\n",
      "Number of common movies 14 \n",
      "\n",
      "                                    title  rating\n",
      "14                           Kolya (1996)       5\n",
      "1306  Truth About Cats & Dogs, The (1996)       5\n",
      "1618                 Birdcage, The (1996)       4\n",
      "3479                  Men in Black (1997)       4\n",
      "5247              Mighty Aphrodite (1995)       5\n",
      "                                    title  rating\n",
      "32                           Kolya (1996)       5\n",
      "1336  Truth About Cats & Dogs, The (1996)       4\n",
      "1648                 Birdcage, The (1996)       4\n",
      "3510                  Men in Black (1997)       4\n",
      "5270              Mighty Aphrodite (1995)       4\n"
     ]
    }
   ],
   "source": [
    "# dataframe with the data from user 1\n",
    "data_user_1 = data_train[data_train.user_id==1]\n",
    "# dataframe with the data from user 2\n",
    "data_user_2 = data_train[data_train.user_id==2]\n",
    "# We first compute the set of common movies\n",
    "common_movies = set(data_user_1.movie_id).intersection(data_user_2.movie_id)\n",
    "print(\"\\nNumber of common movies\",len(common_movies),'\\n')\n",
    "\n",
    "# creat the subdataframe with only with the common movies\n",
    "mask = (data_user_1.movie_id.isin(common_movies))\n",
    "data_user_1 = data_user_1[mask]\n",
    "print(data_user_1[['title','rating']].head())\n",
    "\n",
    "mask = (data_user_2.movie_id.isin(common_movies))\n",
    "data_user_2 = data_user_2[mask]\n",
    "print(data_user_2[['title','rating']].head())\n",
    "\n"
   ]
  },
  {
   "cell_type": "markdown",
   "metadata": {},
   "source": [
    "<h6>Let's define a function to compute the users similarity </h6>"
   ]
  },
  {
   "cell_type": "code",
   "execution_count": 34,
   "metadata": {},
   "outputs": [
    {
     "name": "stdout",
     "output_type": "stream",
     "text": [
      "0.15026857675938216\n",
      "0.16952084719853724\n"
     ]
    }
   ],
   "source": [
    "from scipy.stats import pearsonr\n",
    "from scipy.spatial.distance import euclidean\n",
    "\n",
    "# Returns a distance-based similarity score for person1 and person2\n",
    "def SimEuclid(DataFrame,User1,User2,min_common_items=1):\n",
    "    # GET MOVIES OF USER1\n",
    "    movies_user1=DataFrame[DataFrame['user_id'] ==User1 ]\n",
    "    # GET MOVIES OF USER2\n",
    "    movies_user2=DataFrame[DataFrame['user_id'] ==User2 ]\n",
    "    \n",
    "    # FIND SHARED FILMS\n",
    "    rep=pd.merge(movies_user1 ,movies_user2,on='movie_id')    \n",
    "    if len(rep)==0:\n",
    "        return 0\n",
    "    if(len(rep)<min_common_items):\n",
    "        return 0\n",
    "    #return distEuclid(rep['rating_x'],rep['rating_y']) \n",
    "    return 1.0/(1.0+euclidean(rep['rating_x'],rep['rating_y'])) \n",
    "\n",
    "# Returns a pearsonCorrealation-based similarity score for person1 and person2\n",
    "def SimPearson(DataFrame,User1,User2,min_common_items=2):\n",
    "    # GET MOVIES OF USER1\n",
    "    movies_user1=DataFrame[DataFrame['user_id'] ==User1 ]\n",
    "    # GET MOVIES OF USER2\n",
    "    movies_user2=DataFrame[DataFrame['user_id'] ==User2 ]\n",
    "    \n",
    "    # FIND SHARED FILMS\n",
    "    rep=pd.merge(movies_user1 ,movies_user2,on='movie_id',)\n",
    "    if len(rep)==0:\n",
    "        return 0    \n",
    "    if(len(rep)<min_common_items):\n",
    "        return 0    \n",
    "    res=pearsonr(rep['rating_x'],rep['rating_y'])[0]\n",
    "    if(isnan(res)):\n",
    "        return 0\n",
    "    return res\n",
    "\n",
    "print(SimPearson(data_train,1,2))\n",
    "print(SimEuclid(data_train,1,2))"
   ]
  },
  {
   "cell_type": "markdown",
   "metadata": {},
   "source": [
    "<h5>Let's build a Recommender System</h5>"
   ]
  },
  {
   "cell_type": "code",
   "execution_count": 42,
   "metadata": {},
   "outputs": [],
   "source": [
    "class CollaborativeFiltering:\n",
    "    \"\"\" Collaborative filtering using a custom sim(u,u'). \"\"\"\n",
    "    \n",
    "    def __init__(self,DataFrame, similarity=SimPearson):\n",
    "        \"\"\" Constructor \"\"\"\n",
    "        self.sim_method=similarity# Gets recommendations for a person by using a weighted average\n",
    "        self.df=DataFrame\n",
    "        self.sim = pd.DataFrame(np.sum([0]),columns=data_train.user_id.unique(), index=data_train.user_id.unique())\n",
    "\n",
    "    def learn(self):\n",
    "        \"\"\" Prepare data structures for estimation. Similarity matrix for users \"\"\"\n",
    "        allUsers=set(self.df['user_id'])\n",
    "        self.sim = {}\n",
    "        for person1 in allUsers:\n",
    "            self.sim.setdefault(person1, {})\n",
    "            a=self.df[self.df['user_id']==person1][['movie_id']]\n",
    "            data_reduced=pd.merge(self.df,a,on='movie_id')\n",
    "            for person2 in allUsers:\n",
    "                # no es comparem amb nosaltres mateixos\n",
    "                if person1==person2: continue\n",
    "                self.sim.setdefault(person2, {})\n",
    "                if(person1 in self.sim[person2]):continue # since is a simetric matrix\n",
    "                sim=self.sim_method(data_reduced,person1,person2)\n",
    "                if(sim<0):\n",
    "                    self.sim[person1][person2]=0\n",
    "                    self.sim[person2][person1]=0\n",
    "                else:\n",
    "                    self.sim[person1][person2]=sim\n",
    "                    self.sim[person2][person1]=sim\n",
    "                \n",
    "    def estimate(self, user_id, movie_id):\n",
    "        totals={}\n",
    "        movie_users=self.df[self.df['movie_id'] ==movie_id]\n",
    "        rating_num=0.0\n",
    "        rating_den=0.0\n",
    "        allUsers=set(movie_users['user_id'])\n",
    "        for other in allUsers:\n",
    "            if user_id==other: continue \n",
    "            rating_num += self.sim[user_id][other] * float(movie_users[movie_users['user_id']==other]['rating'])\n",
    "            rating_den += self.sim[user_id][other]\n",
    "        if rating_den==0: \n",
    "            if self.df.rating[self.df['movie_id']==movie_id].mean()>0:\n",
    "                # return the mean movie rating if there is no similar for the computation\n",
    "                return self.df.rating[self.df['movie_id']==movie_id].mean()\n",
    "            else:\n",
    "                # else return mean user rating \n",
    "                return self.df.rating[self.df['user_id']==user_id].mean()\n",
    "        return rating_num/rating_den\n",
    "\n"
   ]
  },
  {
   "cell_type": "markdown",
   "metadata": {},
   "source": [
    "### Let's create a small dataset in order to reduce the computation cost and speedup the calculus in the class"
   ]
  },
  {
   "cell_type": "code",
   "execution_count": 38,
   "metadata": {},
   "outputs": [
    {
     "name": "stdout",
     "output_type": "stream",
     "text": [
      "(10960, 8)\n",
      "(8727, 8)\n",
      "(2233, 8)\n",
      "Usuaris: 99\n",
      "Films: 1232\n"
     ]
    }
   ],
   "source": [
    "dataSmall = data[data['user_id']<100].copy() # get only data from 100 users\n",
    "print(dataSmall.shape)\n",
    "\n",
    "dataSmall.loc[:,'for_testing'] = False\n",
    "grouped = dataSmall.groupby('user_id', group_keys=False).apply(assign_to_set)\n",
    "dataSmall_train = dataSmall[grouped.for_testing == False]\n",
    "dataSmall_test = dataSmall[grouped.for_testing == True]\n",
    "\n",
    "print(dataSmall_train.shape)\n",
    "print(dataSmall_test.shape)\n",
    "\n",
    "print('Usuaris:', dataSmall.user_id.nunique())\n",
    "print('Films:',dataSmall.movie_id.nunique())"
   ]
  },
  {
   "cell_type": "code",
   "execution_count": 39,
   "metadata": {},
   "outputs": [
    {
     "name": "stderr",
     "output_type": "stream",
     "text": [
      "/home/jan/anaconda3/lib/python3.7/site-packages/scipy/stats/stats.py:3399: PearsonRConstantInputWarning: An input array is constant; the correlation coefficent is not defined.\n",
      "  warnings.warn(PearsonRConstantInputWarning())\n"
     ]
    },
    {
     "data": {
      "text/plain": [
       "4.09899784260697"
      ]
     },
     "execution_count": 39,
     "metadata": {},
     "output_type": "execute_result"
    }
   ],
   "source": [
    "reco = CollaborativeFiltering(dataSmall_train)\n",
    "reco.learn()\n",
    "reco.estimate(user_id=2,movie_id=1)"
   ]
  },
  {
   "cell_type": "code",
   "execution_count": 40,
   "metadata": {},
   "outputs": [],
   "source": [
    "def evaluate(estimate_f,data_train,data_test):\n",
    "    \"\"\" RMSE-based predictive performance evaluation with pandas. \"\"\"\n",
    "    ids_to_estimate = zip(data_test.user_id, data_test.movie_id)\n",
    "    estimated = np.array([estimate_f(u,i) if u in data_train.user_id else 3 for (u,i) in ids_to_estimate ])\n",
    "    real = data_test.rating.values\n",
    "    return compute_rmse(estimated, real)"
   ]
  },
  {
   "cell_type": "code",
   "execution_count": 41,
   "metadata": {},
   "outputs": [
    {
     "name": "stdout",
     "output_type": "stream",
     "text": [
      "RMSE for Collaborative Recomender: 1.2711087217408832\n"
     ]
    }
   ],
   "source": [
    "print('RMSE for Collaborative Recomender: %s' % evaluate(reco.estimate,dataSmall_train,dataSmall_test))"
   ]
  },
  {
   "cell_type": "markdown",
   "metadata": {},
   "source": [
    "<div class  = \"alert alert-success\">**EXERCISE 1**<p>\n",
    "Modify the Recomender System using as a prediction function the following equation:\n",
    "$$pred(a,p) = \\bar{r_a} + \\frac{\\sum_{b \\in N}{sim(a,b)*(r_{b,p}-\\bar{r_b})}}{\\sum_{b \\in N}{sim(a,b)}}$$\n",
    "\n",
    "</div>"
   ]
  },
  {
   "cell_type": "code",
   "execution_count": 156,
   "metadata": {},
   "outputs": [],
   "source": [
    "class CollaborativeFiltering2:\n",
    "    \"\"\" Collaborative filtering using a custom sim(u,u'). \"\"\"\n",
    "    \n",
    "    def __init__(self,DataFrame, similarity=SimPearson):\n",
    "        \"\"\" Constructor \"\"\"\n",
    "        self.sim_method=similarity# Gets recommendations for a person by using a weighted average\n",
    "        self.df=DataFrame\n",
    "        self.sim = pd.DataFrame(np.sum([0]),columns=data_train.user_id.unique(), index=data_train.user_id.unique())\n",
    "\n",
    "    def learn(self):\n",
    "        \"\"\" Prepare data structures for estimation. Similarity matrix for users \"\"\"\n",
    "        allUsers=set(self.df['user_id'])\n",
    "        self.sim = {}\n",
    "        for person1 in allUsers:\n",
    "            self.sim.setdefault(person1, {})\n",
    "            a=self.df[self.df['user_id']==person1][['movie_id']]\n",
    "            data_reduced=pd.merge(self.df,a,on='movie_id')\n",
    "            for person2 in allUsers:\n",
    "                # no es comparem amb nosaltres mateixos\n",
    "                if person1==person2: continue\n",
    "                self.sim.setdefault(person2, {})\n",
    "                if(person1 in self.sim[person2]):continue # since is a simetric matrix\n",
    "                sim=self.sim_method(data_reduced,person1,person2)\n",
    "                if(sim<0):\n",
    "                    self.sim[person1][person2]=0\n",
    "                    self.sim[person2][person1]=0\n",
    "                else:\n",
    "                    self.sim[person1][person2]=sim\n",
    "                    self.sim[person2][person1]=sim\n",
    "                \n",
    "    def estimate(self, user_id, movie_id):\n",
    "        totals={}\n",
    "        movie_users=self.df[self.df['movie_id'] ==movie_id]\n",
    "        rating_num=0.0\n",
    "        rating_den=0.0\n",
    "        allUsers=set(movie_users['user_id'])\n",
    "        \n",
    "        print(\"NOT A FUCKING SERIES:\", pd.to_numeric(movie_users[movie_users['user_id']==1]['rating'],errors='coerce'))\n",
    "        for other in allUsers:\n",
    "            if user_id==other: continue \n",
    "            rating_num += self.sim[user_id][other] * (float(movie_users[movie_users['user_id']==other]['rating'])-float(movie_users[movie_users['user_id']==other]['rating'].mean()))\n",
    "            rating_den += self.sim[user_id][other]\n",
    "        if rating_den==0: \n",
    "            if self.df.rating[self.df['movie_id']==movie_id].mean()>0:\n",
    "                # return the mean movie rating if there is no similar for the computation\n",
    "                return self.df.rating[self.df['movie_id']==movie_id].mean()\n",
    "            else:\n",
    "                # else return mean user rating \n",
    "                return self.df.rating[self.df['user_id']==user_id].mean()\n",
    "        return self.df.rating[self.df['user_id']==user_id].mean() + rating_num/rating_den\n"
   ]
  },
  {
   "cell_type": "code",
   "execution_count": 157,
   "metadata": {},
   "outputs": [
    {
     "name": "stdout",
     "output_type": "stream",
     "text": [
      "NOT A FUCKING SERIES: 50341    5\n",
      "Name: rating, dtype: int64\n"
     ]
    },
    {
     "data": {
      "text/plain": [
       "3.693877551020408"
      ]
     },
     "execution_count": 157,
     "metadata": {},
     "output_type": "execute_result"
    }
   ],
   "source": [
    "reco2 = CollaborativeFiltering2(dataSmall_train)\n",
    "reco2.learn()\n",
    "reco2.estimate(user_id=2,movie_id=1)"
   ]
  },
  {
   "cell_type": "code",
   "execution_count": 158,
   "metadata": {},
   "outputs": [
    {
     "name": "stdout",
     "output_type": "stream",
     "text": [
      "NOT A FUCKING SERIES: Series([], Name: rating, dtype: int64)\n",
      "NOT A FUCKING SERIES: 708    3\n",
      "Name: rating, dtype: int64\n",
      "NOT A FUCKING SERIES: 940    4\n",
      "Name: rating, dtype: int64\n",
      "NOT A FUCKING SERIES: 940    4\n",
      "Name: rating, dtype: int64\n",
      "NOT A FUCKING SERIES: Series([], Name: rating, dtype: int64)\n",
      "NOT A FUCKING SERIES: Series([], Name: rating, dtype: int64)\n",
      "NOT A FUCKING SERIES: Series([], Name: rating, dtype: int64)\n",
      "NOT A FUCKING SERIES: Series([], Name: rating, dtype: int64)\n",
      "NOT A FUCKING SERIES: Series([], Name: rating, dtype: int64)\n",
      "NOT A FUCKING SERIES: Series([], Name: rating, dtype: int64)\n",
      "NOT A FUCKING SERIES: Series([], Name: rating, dtype: int64)\n",
      "NOT A FUCKING SERIES: 2363    2\n",
      "Name: rating, dtype: int64\n",
      "NOT A FUCKING SERIES: Series([], Name: rating, dtype: int64)\n",
      "NOT A FUCKING SERIES: 2677    1\n",
      "Name: rating, dtype: int64\n",
      "NOT A FUCKING SERIES: 2677    1\n",
      "Name: rating, dtype: int64\n",
      "NOT A FUCKING SERIES: Series([], Name: rating, dtype: int64)\n",
      "NOT A FUCKING SERIES: 3073    3\n",
      "Name: rating, dtype: int64\n",
      "NOT A FUCKING SERIES: 3073    3\n",
      "Name: rating, dtype: int64\n",
      "NOT A FUCKING SERIES: 3304    4\n",
      "Name: rating, dtype: int64\n",
      "NOT A FUCKING SERIES: Series([], Name: rating, dtype: int64)\n",
      "NOT A FUCKING SERIES: 3751    5\n",
      "Name: rating, dtype: int64\n",
      "NOT A FUCKING SERIES: 3858    5\n",
      "Name: rating, dtype: int64\n",
      "NOT A FUCKING SERIES: 3858    5\n",
      "Name: rating, dtype: int64\n",
      "NOT A FUCKING SERIES: Series([], Name: rating, dtype: int64)\n",
      "NOT A FUCKING SERIES: Series([], Name: rating, dtype: int64)\n",
      "NOT A FUCKING SERIES: Series([], Name: rating, dtype: int64)\n",
      "NOT A FUCKING SERIES: Series([], Name: rating, dtype: int64)\n",
      "NOT A FUCKING SERIES: Series([], Name: rating, dtype: int64)\n",
      "NOT A FUCKING SERIES: Series([], Name: rating, dtype: int64)\n",
      "NOT A FUCKING SERIES: Series([], Name: rating, dtype: int64)\n",
      "NOT A FUCKING SERIES: Series([], Name: rating, dtype: int64)\n",
      "NOT A FUCKING SERIES: Series([], Name: rating, dtype: int64)\n",
      "NOT A FUCKING SERIES: Series([], Name: rating, dtype: int64)\n",
      "NOT A FUCKING SERIES: Series([], Name: rating, dtype: int64)\n",
      "NOT A FUCKING SERIES: 6080    5\n",
      "Name: rating, dtype: int64\n",
      "NOT A FUCKING SERIES: 6080    5\n",
      "Name: rating, dtype: int64\n",
      "NOT A FUCKING SERIES: Series([], Name: rating, dtype: int64)\n",
      "NOT A FUCKING SERIES: Series([], Name: rating, dtype: int64)\n",
      "NOT A FUCKING SERIES: 6897    4\n",
      "Name: rating, dtype: int64\n",
      "NOT A FUCKING SERIES: 6897    4\n",
      "Name: rating, dtype: int64\n",
      "NOT A FUCKING SERIES: 7189    1\n",
      "Name: rating, dtype: int64\n",
      "NOT A FUCKING SERIES: Series([], Name: rating, dtype: int64)\n",
      "NOT A FUCKING SERIES: Series([], Name: rating, dtype: int64)\n",
      "NOT A FUCKING SERIES: Series([], Name: rating, dtype: int64)\n",
      "NOT A FUCKING SERIES: Series([], Name: rating, dtype: int64)\n",
      "NOT A FUCKING SERIES: Series([], Name: rating, dtype: int64)\n",
      "NOT A FUCKING SERIES: Series([], Name: rating, dtype: int64)\n",
      "NOT A FUCKING SERIES: Series([], Name: rating, dtype: int64)\n",
      "NOT A FUCKING SERIES: Series([], Name: rating, dtype: int64)\n",
      "NOT A FUCKING SERIES: Series([], Name: rating, dtype: int64)\n",
      "NOT A FUCKING SERIES: 10142    3\n",
      "Name: rating, dtype: int64\n",
      "NOT A FUCKING SERIES: 10142    3\n",
      "Name: rating, dtype: int64\n",
      "NOT A FUCKING SERIES: 10142    3\n",
      "Name: rating, dtype: int64\n",
      "NOT A FUCKING SERIES: Series([], Name: rating, dtype: int64)\n",
      "NOT A FUCKING SERIES: Series([], Name: rating, dtype: int64)\n",
      "NOT A FUCKING SERIES: Series([], Name: rating, dtype: int64)\n",
      "NOT A FUCKING SERIES: Series([], Name: rating, dtype: int64)\n",
      "NOT A FUCKING SERIES: Series([], Name: rating, dtype: int64)\n",
      "NOT A FUCKING SERIES: 11134    2\n",
      "Name: rating, dtype: int64\n",
      "NOT A FUCKING SERIES: 11134    2\n",
      "Name: rating, dtype: int64\n",
      "NOT A FUCKING SERIES: 11340    3\n",
      "Name: rating, dtype: int64\n",
      "NOT A FUCKING SERIES: Series([], Name: rating, dtype: int64)\n",
      "NOT A FUCKING SERIES: Series([], Name: rating, dtype: int64)\n",
      "NOT A FUCKING SERIES: Series([], Name: rating, dtype: int64)\n",
      "NOT A FUCKING SERIES: Series([], Name: rating, dtype: int64)\n",
      "NOT A FUCKING SERIES: Series([], Name: rating, dtype: int64)\n",
      "NOT A FUCKING SERIES: Series([], Name: rating, dtype: int64)\n",
      "NOT A FUCKING SERIES: Series([], Name: rating, dtype: int64)\n",
      "NOT A FUCKING SERIES: Series([], Name: rating, dtype: int64)\n",
      "NOT A FUCKING SERIES: Series([], Name: rating, dtype: int64)\n",
      "NOT A FUCKING SERIES: 12783    3\n",
      "Name: rating, dtype: int64\n",
      "NOT A FUCKING SERIES: 13783    1\n",
      "Name: rating, dtype: int64\n",
      "NOT A FUCKING SERIES: 13783    1\n",
      "Name: rating, dtype: int64\n",
      "NOT A FUCKING SERIES: 14097    4\n",
      "Name: rating, dtype: int64\n",
      "NOT A FUCKING SERIES: 14744    4\n",
      "Name: rating, dtype: int64\n",
      "NOT A FUCKING SERIES: 14744    4\n",
      "Name: rating, dtype: int64\n",
      "NOT A FUCKING SERIES: Series([], Name: rating, dtype: int64)\n",
      "NOT A FUCKING SERIES: Series([], Name: rating, dtype: int64)\n",
      "NOT A FUCKING SERIES: Series([], Name: rating, dtype: int64)\n",
      "NOT A FUCKING SERIES: 15769    4\n",
      "Name: rating, dtype: int64\n",
      "NOT A FUCKING SERIES: 15769    4\n",
      "Name: rating, dtype: int64\n",
      "NOT A FUCKING SERIES: 15769    4\n",
      "Name: rating, dtype: int64\n",
      "NOT A FUCKING SERIES: 16154    4\n",
      "Name: rating, dtype: int64\n",
      "NOT A FUCKING SERIES: 16154    4\n",
      "Name: rating, dtype: int64\n",
      "NOT A FUCKING SERIES: 16154    4\n",
      "Name: rating, dtype: int64\n",
      "NOT A FUCKING SERIES: Series([], Name: rating, dtype: int64)\n",
      "NOT A FUCKING SERIES: Series([], Name: rating, dtype: int64)\n",
      "NOT A FUCKING SERIES: 17406    5\n",
      "Name: rating, dtype: int64\n",
      "NOT A FUCKING SERIES: 17406    5\n",
      "Name: rating, dtype: int64\n",
      "NOT A FUCKING SERIES: Series([], Name: rating, dtype: int64)\n",
      "NOT A FUCKING SERIES: Series([], Name: rating, dtype: int64)\n",
      "NOT A FUCKING SERIES: Series([], Name: rating, dtype: int64)\n",
      "NOT A FUCKING SERIES: Series([], Name: rating, dtype: int64)\n",
      "NOT A FUCKING SERIES: Series([], Name: rating, dtype: int64)\n",
      "NOT A FUCKING SERIES: Series([], Name: rating, dtype: int64)\n",
      "NOT A FUCKING SERIES: Series([], Name: rating, dtype: int64)\n",
      "NOT A FUCKING SERIES: Series([], Name: rating, dtype: int64)\n",
      "NOT A FUCKING SERIES: Series([], Name: rating, dtype: int64)\n",
      "NOT A FUCKING SERIES: Series([], Name: rating, dtype: int64)\n",
      "NOT A FUCKING SERIES: Series([], Name: rating, dtype: int64)\n",
      "NOT A FUCKING SERIES: Series([], Name: rating, dtype: int64)\n",
      "NOT A FUCKING SERIES: 21595    4\n",
      "Name: rating, dtype: int64\n",
      "NOT A FUCKING SERIES: 21595    4\n",
      "Name: rating, dtype: int64\n",
      "NOT A FUCKING SERIES: 21852    5\n",
      "Name: rating, dtype: int64\n",
      "NOT A FUCKING SERIES: 22865    5\n",
      "Name: rating, dtype: int64\n",
      "NOT A FUCKING SERIES: 22865    5\n",
      "Name: rating, dtype: int64\n",
      "NOT A FUCKING SERIES: 23162    4\n",
      "Name: rating, dtype: int64\n",
      "NOT A FUCKING SERIES: 23162    4\n",
      "Name: rating, dtype: int64\n",
      "NOT A FUCKING SERIES: Series([], Name: rating, dtype: int64)\n",
      "NOT A FUCKING SERIES: Series([], Name: rating, dtype: int64)\n",
      "NOT A FUCKING SERIES: Series([], Name: rating, dtype: int64)\n",
      "NOT A FUCKING SERIES: 24073    5\n",
      "Name: rating, dtype: int64\n",
      "NOT A FUCKING SERIES: 24291    5\n",
      "Name: rating, dtype: int64\n",
      "NOT A FUCKING SERIES: Series([], Name: rating, dtype: int64)\n",
      "NOT A FUCKING SERIES: 25603    5\n",
      "Name: rating, dtype: int64\n",
      "NOT A FUCKING SERIES: 25923    5\n",
      "Name: rating, dtype: int64\n",
      "NOT A FUCKING SERIES: 25923    5\n",
      "Name: rating, dtype: int64\n",
      "NOT A FUCKING SERIES: Series([], Name: rating, dtype: int64)\n",
      "NOT A FUCKING SERIES: Series([], Name: rating, dtype: int64)\n",
      "NOT A FUCKING SERIES: Series([], Name: rating, dtype: int64)\n",
      "NOT A FUCKING SERIES: Series([], Name: rating, dtype: int64)\n",
      "NOT A FUCKING SERIES: Series([], Name: rating, dtype: int64)\n",
      "NOT A FUCKING SERIES: Series([], Name: rating, dtype: int64)\n",
      "NOT A FUCKING SERIES: Series([], Name: rating, dtype: int64)\n",
      "NOT A FUCKING SERIES: Series([], Name: rating, dtype: int64)\n",
      "NOT A FUCKING SERIES: Series([], Name: rating, dtype: int64)\n",
      "NOT A FUCKING SERIES: 28706    5\n",
      "Name: rating, dtype: int64\n",
      "NOT A FUCKING SERIES: 28706    5\n",
      "Name: rating, dtype: int64\n",
      "NOT A FUCKING SERIES: 28706    5\n",
      "Name: rating, dtype: int64\n",
      "NOT A FUCKING SERIES: 29176    4\n",
      "Name: rating, dtype: int64\n",
      "NOT A FUCKING SERIES: Series([], Name: rating, dtype: int64)\n",
      "NOT A FUCKING SERIES: Series([], Name: rating, dtype: int64)\n",
      "NOT A FUCKING SERIES: 29948    5\n",
      "Name: rating, dtype: int64\n",
      "NOT A FUCKING SERIES: 29948    5\n",
      "Name: rating, dtype: int64\n",
      "NOT A FUCKING SERIES: 30527    4\n",
      "Name: rating, dtype: int64\n",
      "NOT A FUCKING SERIES: 30527    4\n",
      "Name: rating, dtype: int64\n",
      "NOT A FUCKING SERIES: Series([], Name: rating, dtype: int64)\n",
      "NOT A FUCKING SERIES: Series([], Name: rating, dtype: int64)\n",
      "NOT A FUCKING SERIES: 31487    4\n",
      "Name: rating, dtype: int64\n",
      "NOT A FUCKING SERIES: 31487    4\n",
      "Name: rating, dtype: int64\n",
      "NOT A FUCKING SERIES: 31487    4\n",
      "Name: rating, dtype: int64\n"
     ]
    },
    {
     "name": "stdout",
     "output_type": "stream",
     "text": [
      "NOT A FUCKING SERIES: Series([], Name: rating, dtype: int64)\n",
      "NOT A FUCKING SERIES: 32722    5\n",
      "Name: rating, dtype: int64\n",
      "NOT A FUCKING SERIES: 33393    5\n",
      "Name: rating, dtype: int64\n",
      "NOT A FUCKING SERIES: 35275    4\n",
      "Name: rating, dtype: int64\n",
      "NOT A FUCKING SERIES: 35275    4\n",
      "Name: rating, dtype: int64\n",
      "NOT A FUCKING SERIES: 35275    4\n",
      "Name: rating, dtype: int64\n",
      "NOT A FUCKING SERIES: Series([], Name: rating, dtype: int64)\n",
      "NOT A FUCKING SERIES: Series([], Name: rating, dtype: int64)\n",
      "NOT A FUCKING SERIES: Series([], Name: rating, dtype: int64)\n",
      "NOT A FUCKING SERIES: Series([], Name: rating, dtype: int64)\n",
      "NOT A FUCKING SERIES: Series([], Name: rating, dtype: int64)\n",
      "NOT A FUCKING SERIES: 36610    2\n",
      "Name: rating, dtype: int64\n",
      "NOT A FUCKING SERIES: 36756    4\n",
      "Name: rating, dtype: int64\n",
      "NOT A FUCKING SERIES: 36756    4\n",
      "Name: rating, dtype: int64\n",
      "NOT A FUCKING SERIES: 37272    3\n",
      "Name: rating, dtype: int64\n",
      "NOT A FUCKING SERIES: 37272    3\n",
      "Name: rating, dtype: int64\n",
      "NOT A FUCKING SERIES: Series([], Name: rating, dtype: int64)\n",
      "NOT A FUCKING SERIES: Series([], Name: rating, dtype: int64)\n",
      "NOT A FUCKING SERIES: 38675    4\n",
      "Name: rating, dtype: int64\n",
      "NOT A FUCKING SERIES: 39006    4\n",
      "Name: rating, dtype: int64\n",
      "NOT A FUCKING SERIES: 39605    3\n",
      "Name: rating, dtype: int64\n",
      "NOT A FUCKING SERIES: Series([], Name: rating, dtype: int64)\n",
      "NOT A FUCKING SERIES: Series([], Name: rating, dtype: int64)\n",
      "NOT A FUCKING SERIES: Series([], Name: rating, dtype: int64)\n",
      "NOT A FUCKING SERIES: Series([], Name: rating, dtype: int64)\n",
      "NOT A FUCKING SERIES: 41182    3\n",
      "Name: rating, dtype: int64\n",
      "NOT A FUCKING SERIES: 41883    3\n",
      "Name: rating, dtype: int64\n",
      "NOT A FUCKING SERIES: Series([], Name: rating, dtype: int64)\n",
      "NOT A FUCKING SERIES: Series([], Name: rating, dtype: int64)\n",
      "NOT A FUCKING SERIES: 43349    5\n",
      "Name: rating, dtype: int64\n",
      "NOT A FUCKING SERIES: 43606    4\n",
      "Name: rating, dtype: int64\n",
      "NOT A FUCKING SERIES: Series([], Name: rating, dtype: int64)\n",
      "NOT A FUCKING SERIES: 44163    3\n",
      "Name: rating, dtype: int64\n",
      "NOT A FUCKING SERIES: 44163    3\n",
      "Name: rating, dtype: int64\n",
      "NOT A FUCKING SERIES: Series([], Name: rating, dtype: int64)\n",
      "NOT A FUCKING SERIES: 45035    5\n",
      "Name: rating, dtype: int64\n",
      "NOT A FUCKING SERIES: 45455    3\n",
      "Name: rating, dtype: int64\n",
      "NOT A FUCKING SERIES: 45455    3\n",
      "Name: rating, dtype: int64\n",
      "NOT A FUCKING SERIES: 45455    3\n",
      "Name: rating, dtype: int64\n",
      "NOT A FUCKING SERIES: Series([], Name: rating, dtype: int64)\n",
      "NOT A FUCKING SERIES: Series([], Name: rating, dtype: int64)\n",
      "NOT A FUCKING SERIES: 46981    5\n",
      "Name: rating, dtype: int64\n",
      "NOT A FUCKING SERIES: 46981    5\n",
      "Name: rating, dtype: int64\n",
      "NOT A FUCKING SERIES: 47536    4\n",
      "Name: rating, dtype: int64\n",
      "NOT A FUCKING SERIES: Series([], Name: rating, dtype: int64)\n",
      "NOT A FUCKING SERIES: Series([], Name: rating, dtype: int64)\n",
      "NOT A FUCKING SERIES: Series([], Name: rating, dtype: int64)\n",
      "NOT A FUCKING SERIES: 48848    5\n",
      "Name: rating, dtype: int64\n",
      "NOT A FUCKING SERIES: Series([], Name: rating, dtype: int64)\n",
      "NOT A FUCKING SERIES: Series([], Name: rating, dtype: int64)\n",
      "NOT A FUCKING SERIES: 50203    3\n",
      "Name: rating, dtype: int64\n",
      "NOT A FUCKING SERIES: 50341    5\n",
      "Name: rating, dtype: int64\n",
      "NOT A FUCKING SERIES: Series([], Name: rating, dtype: int64)\n",
      "NOT A FUCKING SERIES: 51083    5\n",
      "Name: rating, dtype: int64\n",
      "NOT A FUCKING SERIES: 51083    5\n",
      "Name: rating, dtype: int64\n",
      "NOT A FUCKING SERIES: Series([], Name: rating, dtype: int64)\n",
      "NOT A FUCKING SERIES: Series([], Name: rating, dtype: int64)\n",
      "NOT A FUCKING SERIES: Series([], Name: rating, dtype: int64)\n",
      "NOT A FUCKING SERIES: Series([], Name: rating, dtype: int64)\n",
      "NOT A FUCKING SERIES: 52984    4\n",
      "Name: rating, dtype: int64\n",
      "NOT A FUCKING SERIES: 52984    4\n",
      "Name: rating, dtype: int64\n",
      "NOT A FUCKING SERIES: Series([], Name: rating, dtype: int64)\n",
      "NOT A FUCKING SERIES: Series([], Name: rating, dtype: int64)\n",
      "NOT A FUCKING SERIES: Series([], Name: rating, dtype: int64)\n",
      "NOT A FUCKING SERIES: Series([], Name: rating, dtype: int64)\n",
      "NOT A FUCKING SERIES: Series([], Name: rating, dtype: int64)\n",
      "NOT A FUCKING SERIES: Series([], Name: rating, dtype: int64)\n",
      "NOT A FUCKING SERIES: Series([], Name: rating, dtype: int64)\n",
      "NOT A FUCKING SERIES: Series([], Name: rating, dtype: int64)\n",
      "NOT A FUCKING SERIES: 56748    2\n",
      "Name: rating, dtype: int64\n",
      "NOT A FUCKING SERIES: 56990    5\n",
      "Name: rating, dtype: int64\n",
      "NOT A FUCKING SERIES: Series([], Name: rating, dtype: int64)\n",
      "NOT A FUCKING SERIES: Series([], Name: rating, dtype: int64)\n",
      "NOT A FUCKING SERIES: Series([], Name: rating, dtype: int64)\n",
      "NOT A FUCKING SERIES: 58727    4\n",
      "Name: rating, dtype: int64\n",
      "NOT A FUCKING SERIES: 58727    4\n",
      "Name: rating, dtype: int64\n",
      "NOT A FUCKING SERIES: Series([], Name: rating, dtype: int64)\n",
      "NOT A FUCKING SERIES: 59752    4\n",
      "Name: rating, dtype: int64\n",
      "NOT A FUCKING SERIES: 59950    4\n",
      "Name: rating, dtype: int64\n",
      "NOT A FUCKING SERIES: 60132    4\n",
      "Name: rating, dtype: int64\n",
      "NOT A FUCKING SERIES: Series([], Name: rating, dtype: int64)\n",
      "NOT A FUCKING SERIES: Series([], Name: rating, dtype: int64)\n",
      "NOT A FUCKING SERIES: Series([], Name: rating, dtype: int64)\n",
      "NOT A FUCKING SERIES: Series([], Name: rating, dtype: int64)\n",
      "NOT A FUCKING SERIES: Series([], Name: rating, dtype: int64)\n",
      "NOT A FUCKING SERIES: Series([], Name: rating, dtype: int64)\n",
      "NOT A FUCKING SERIES: Series([], Name: rating, dtype: int64)\n",
      "NOT A FUCKING SERIES: Series([], Name: rating, dtype: int64)\n",
      "NOT A FUCKING SERIES: 62604    4\n",
      "Name: rating, dtype: int64\n",
      "NOT A FUCKING SERIES: Series([], Name: rating, dtype: int64)\n",
      "NOT A FUCKING SERIES: Series([], Name: rating, dtype: int64)\n",
      "NOT A FUCKING SERIES: Series([], Name: rating, dtype: int64)\n",
      "NOT A FUCKING SERIES: Series([], Name: rating, dtype: int64)\n",
      "NOT A FUCKING SERIES: Series([], Name: rating, dtype: int64)\n",
      "NOT A FUCKING SERIES: Series([], Name: rating, dtype: int64)\n",
      "NOT A FUCKING SERIES: Series([], Name: rating, dtype: int64)\n",
      "NOT A FUCKING SERIES: Series([], Name: rating, dtype: int64)\n",
      "NOT A FUCKING SERIES: Series([], Name: rating, dtype: int64)\n",
      "NOT A FUCKING SERIES: Series([], Name: rating, dtype: int64)\n",
      "NOT A FUCKING SERIES: 65983    5\n",
      "Name: rating, dtype: int64\n",
      "NOT A FUCKING SERIES: Series([], Name: rating, dtype: int64)\n",
      "NOT A FUCKING SERIES: Series([], Name: rating, dtype: int64)\n",
      "NOT A FUCKING SERIES: Series([], Name: rating, dtype: int64)\n",
      "NOT A FUCKING SERIES: Series([], Name: rating, dtype: int64)\n",
      "NOT A FUCKING SERIES: 67352    1\n",
      "Name: rating, dtype: int64\n",
      "NOT A FUCKING SERIES: 67352    1\n",
      "Name: rating, dtype: int64\n",
      "NOT A FUCKING SERIES: Series([], Name: rating, dtype: int64)\n",
      "NOT A FUCKING SERIES: Series([], Name: rating, dtype: int64)\n",
      "NOT A FUCKING SERIES: Series([], Name: rating, dtype: int64)\n",
      "NOT A FUCKING SERIES: Series([], Name: rating, dtype: int64)\n",
      "NOT A FUCKING SERIES: Series([], Name: rating, dtype: int64)\n",
      "NOT A FUCKING SERIES: 69542    3\n",
      "Name: rating, dtype: int64\n",
      "NOT A FUCKING SERIES: 69848    1\n",
      "Name: rating, dtype: int64\n",
      "NOT A FUCKING SERIES: 69949    5\n",
      "Name: rating, dtype: int64\n",
      "NOT A FUCKING SERIES: Series([], Name: rating, dtype: int64)\n",
      "NOT A FUCKING SERIES: Series([], Name: rating, dtype: int64)\n",
      "NOT A FUCKING SERIES: Series([], Name: rating, dtype: int64)\n",
      "NOT A FUCKING SERIES: Series([], Name: rating, dtype: int64)\n",
      "NOT A FUCKING SERIES: Series([], Name: rating, dtype: int64)\n",
      "NOT A FUCKING SERIES: 73629    4\n",
      "Name: rating, dtype: int64\n",
      "NOT A FUCKING SERIES: Series([], Name: rating, dtype: int64)\n",
      "NOT A FUCKING SERIES: Series([], Name: rating, dtype: int64)\n",
      "NOT A FUCKING SERIES: Series([], Name: rating, dtype: int64)\n",
      "NOT A FUCKING SERIES: Series([], Name: rating, dtype: int64)\n",
      "NOT A FUCKING SERIES: Series([], Name: rating, dtype: int64)\n",
      "NOT A FUCKING SERIES: 75036    5\n",
      "Name: rating, dtype: int64\n",
      "NOT A FUCKING SERIES: Series([], Name: rating, dtype: int64)\n",
      "NOT A FUCKING SERIES: 75729    4\n",
      "Name: rating, dtype: int64\n",
      "NOT A FUCKING SERIES: Series([], Name: rating, dtype: int64)\n",
      "NOT A FUCKING SERIES: Series([], Name: rating, dtype: int64)\n",
      "NOT A FUCKING SERIES: Series([], Name: rating, dtype: int64)\n",
      "NOT A FUCKING SERIES: Series([], Name: rating, dtype: int64)\n",
      "NOT A FUCKING SERIES: Series([], Name: rating, dtype: int64)\n",
      "NOT A FUCKING SERIES: 76745    4\n",
      "Name: rating, dtype: int64\n",
      "NOT A FUCKING SERIES: Series([], Name: rating, dtype: int64)\n",
      "NOT A FUCKING SERIES: Series([], Name: rating, dtype: int64)\n",
      "NOT A FUCKING SERIES: Series([], Name: rating, dtype: int64)\n",
      "NOT A FUCKING SERIES: Series([], Name: rating, dtype: int64)\n"
     ]
    },
    {
     "name": "stdout",
     "output_type": "stream",
     "text": [
      "NOT A FUCKING SERIES: Series([], Name: rating, dtype: int64)\n",
      "NOT A FUCKING SERIES: Series([], Name: rating, dtype: int64)\n",
      "NOT A FUCKING SERIES: Series([], Name: rating, dtype: int64)\n",
      "NOT A FUCKING SERIES: Series([], Name: rating, dtype: int64)\n",
      "NOT A FUCKING SERIES: 78288    1\n",
      "Name: rating, dtype: int64\n",
      "NOT A FUCKING SERIES: 78402    5\n",
      "Name: rating, dtype: int64\n",
      "NOT A FUCKING SERIES: Series([], Name: rating, dtype: int64)\n",
      "NOT A FUCKING SERIES: Series([], Name: rating, dtype: int64)\n",
      "NOT A FUCKING SERIES: Series([], Name: rating, dtype: int64)\n",
      "NOT A FUCKING SERIES: Series([], Name: rating, dtype: int64)\n",
      "NOT A FUCKING SERIES: Series([], Name: rating, dtype: int64)\n",
      "NOT A FUCKING SERIES: Series([], Name: rating, dtype: int64)\n",
      "NOT A FUCKING SERIES: Series([], Name: rating, dtype: int64)\n",
      "NOT A FUCKING SERIES: Series([], Name: rating, dtype: int64)\n",
      "NOT A FUCKING SERIES: Series([], Name: rating, dtype: int64)\n",
      "NOT A FUCKING SERIES: Series([], Name: rating, dtype: int64)\n",
      "NOT A FUCKING SERIES: Series([], Name: rating, dtype: int64)\n",
      "NOT A FUCKING SERIES: Series([], Name: rating, dtype: int64)\n",
      "NOT A FUCKING SERIES: Series([], Name: rating, dtype: int64)\n",
      "NOT A FUCKING SERIES: Series([], Name: rating, dtype: int64)\n",
      "NOT A FUCKING SERIES: Series([], Name: rating, dtype: int64)\n",
      "NOT A FUCKING SERIES: Series([], Name: rating, dtype: int64)\n",
      "NOT A FUCKING SERIES: Series([], Name: rating, dtype: int64)\n",
      "NOT A FUCKING SERIES: Series([], Name: rating, dtype: int64)\n",
      "NOT A FUCKING SERIES: Series([], Name: rating, dtype: int64)\n",
      "NOT A FUCKING SERIES: Series([], Name: rating, dtype: int64)\n",
      "NOT A FUCKING SERIES: Series([], Name: rating, dtype: int64)\n",
      "NOT A FUCKING SERIES: Series([], Name: rating, dtype: int64)\n",
      "NOT A FUCKING SERIES: Series([], Name: rating, dtype: int64)\n",
      "NOT A FUCKING SERIES: Series([], Name: rating, dtype: int64)\n",
      "NOT A FUCKING SERIES: Series([], Name: rating, dtype: int64)\n",
      "NOT A FUCKING SERIES: Series([], Name: rating, dtype: int64)\n",
      "NOT A FUCKING SERIES: Series([], Name: rating, dtype: int64)\n",
      "NOT A FUCKING SERIES: Series([], Name: rating, dtype: int64)\n",
      "NOT A FUCKING SERIES: 86942    3\n",
      "Name: rating, dtype: int64\n",
      "NOT A FUCKING SERIES: Series([], Name: rating, dtype: int64)\n",
      "NOT A FUCKING SERIES: Series([], Name: rating, dtype: int64)\n",
      "NOT A FUCKING SERIES: 87325    1\n",
      "Name: rating, dtype: int64\n",
      "NOT A FUCKING SERIES: Series([], Name: rating, dtype: int64)\n",
      "NOT A FUCKING SERIES: Series([], Name: rating, dtype: int64)\n",
      "NOT A FUCKING SERIES: Series([], Name: rating, dtype: int64)\n",
      "NOT A FUCKING SERIES: Series([], Name: rating, dtype: int64)\n",
      "NOT A FUCKING SERIES: Series([], Name: rating, dtype: int64)\n",
      "NOT A FUCKING SERIES: Series([], Name: rating, dtype: int64)\n",
      "NOT A FUCKING SERIES: Series([], Name: rating, dtype: int64)\n",
      "NOT A FUCKING SERIES: Series([], Name: rating, dtype: int64)\n",
      "NOT A FUCKING SERIES: Series([], Name: rating, dtype: int64)\n",
      "NOT A FUCKING SERIES: Series([], Name: rating, dtype: int64)\n",
      "NOT A FUCKING SERIES: Series([], Name: rating, dtype: int64)\n",
      "NOT A FUCKING SERIES: Series([], Name: rating, dtype: int64)\n",
      "NOT A FUCKING SERIES: Series([], Name: rating, dtype: int64)\n",
      "NOT A FUCKING SERIES: Series([], Name: rating, dtype: int64)\n",
      "NOT A FUCKING SERIES: Series([], Name: rating, dtype: int64)\n",
      "NOT A FUCKING SERIES: Series([], Name: rating, dtype: int64)\n",
      "NOT A FUCKING SERIES: Series([], Name: rating, dtype: int64)\n",
      "NOT A FUCKING SERIES: Series([], Name: rating, dtype: int64)\n",
      "NOT A FUCKING SERIES: Series([], Name: rating, dtype: int64)\n",
      "NOT A FUCKING SERIES: Series([], Name: rating, dtype: int64)\n",
      "NOT A FUCKING SERIES: Series([], Name: rating, dtype: int64)\n",
      "NOT A FUCKING SERIES: Series([], Name: rating, dtype: int64)\n",
      "NOT A FUCKING SERIES: Series([], Name: rating, dtype: int64)\n",
      "NOT A FUCKING SERIES: Series([], Name: rating, dtype: int64)\n",
      "NOT A FUCKING SERIES: Series([], Name: rating, dtype: int64)\n",
      "NOT A FUCKING SERIES: Series([], Name: rating, dtype: int64)\n",
      "NOT A FUCKING SERIES: Series([], Name: rating, dtype: int64)\n",
      "NOT A FUCKING SERIES: Series([], Name: rating, dtype: int64)\n",
      "NOT A FUCKING SERIES: Series([], Name: rating, dtype: int64)\n",
      "NOT A FUCKING SERIES: Series([], Name: rating, dtype: int64)\n",
      "NOT A FUCKING SERIES: Series([], Name: rating, dtype: int64)\n",
      "NOT A FUCKING SERIES: Series([], Name: rating, dtype: int64)\n",
      "NOT A FUCKING SERIES: Series([], Name: rating, dtype: int64)\n",
      "NOT A FUCKING SERIES: 95812    4\n",
      "Name: rating, dtype: int64\n",
      "NOT A FUCKING SERIES: 95812    4\n",
      "Name: rating, dtype: int64\n",
      "NOT A FUCKING SERIES: Series([], Name: rating, dtype: int64)\n",
      "NOT A FUCKING SERIES: Series([], Name: rating, dtype: int64)\n",
      "NOT A FUCKING SERIES: Series([], Name: rating, dtype: int64)\n",
      "NOT A FUCKING SERIES: Series([], Name: rating, dtype: int64)\n",
      "NOT A FUCKING SERIES: Series([], Name: rating, dtype: int64)\n",
      "NOT A FUCKING SERIES: Series([], Name: rating, dtype: int64)\n",
      "NOT A FUCKING SERIES: Series([], Name: rating, dtype: int64)\n",
      "NOT A FUCKING SERIES: Series([], Name: rating, dtype: int64)\n",
      "NOT A FUCKING SERIES: Series([], Name: rating, dtype: int64)\n",
      "NOT A FUCKING SERIES: Series([], Name: rating, dtype: int64)\n",
      "NOT A FUCKING SERIES: Series([], Name: rating, dtype: int64)\n",
      "NOT A FUCKING SERIES: Series([], Name: rating, dtype: int64)\n",
      "NOT A FUCKING SERIES: Series([], Name: rating, dtype: int64)\n",
      "NOT A FUCKING SERIES: Series([], Name: rating, dtype: int64)\n",
      "NOT A FUCKING SERIES: Series([], Name: rating, dtype: int64)\n",
      "NOT A FUCKING SERIES: Series([], Name: rating, dtype: int64)\n",
      "NOT A FUCKING SERIES: Series([], Name: rating, dtype: int64)\n",
      "NOT A FUCKING SERIES: Series([], Name: rating, dtype: int64)\n",
      "NOT A FUCKING SERIES: Series([], Name: rating, dtype: int64)\n",
      "NOT A FUCKING SERIES: Series([], Name: rating, dtype: int64)\n",
      "NOT A FUCKING SERIES: Series([], Name: rating, dtype: int64)\n",
      "RMSE for Collaborative Recomender: 1.271607331507337\n"
     ]
    }
   ],
   "source": [
    "print('RMSE for Collaborative Recomender: %s' % evaluate(reco2.estimate,dataSmall_train,dataSmall_test))"
   ]
  },
  {
   "cell_type": "markdown",
   "metadata": {},
   "source": [
    "<div class=\"alert alert-success\">\n",
    "**EXERCISE 2:**<br>\n",
    "Modify the recomender system from the previous exercice, with one that in order to estimate the score of a movie B for the user A only uses the subset of the N most similar users to user A. Define N as a parameter of the Recommender.\n",
    "</div>"
   ]
  },
  {
   "cell_type": "code",
   "execution_count": 170,
   "metadata": {},
   "outputs": [],
   "source": [
    "import operator\n",
    "import collections\n",
    "\n",
    "class CollaborativeFiltering3:\n",
    "    \"\"\" Collaborative filtering using a custom sim(u,u'). \"\"\"\n",
    "    \n",
    "    def __init__(self,DataFrame, similarity=SimPearson):\n",
    "        \"\"\" Constructor \"\"\"\n",
    "        self.sim_method=similarity# Gets recommendations for a person by using a weighted average\n",
    "        self.df=DataFrame\n",
    "        self.sim = pd.DataFrame(np.sum([0]),columns=data_train.user_id.unique(), index=data_train.user_id.unique())\n",
    "        \n",
    "    def learn(self):\n",
    "        \"\"\" Prepare data structures for estimation. Similarity matrix for users \"\"\"\n",
    "        allUsers=set(self.df['user_id'])\n",
    "        self.sim = {}\n",
    "        for person1 in allUsers:\n",
    "            self.sim.setdefault(person1, {})\n",
    "            a=self.df[self.df['user_id']==person1][['movie_id']]\n",
    "            data_reduced=pd.merge(self.df,a,on='movie_id')\n",
    "            for person2 in allUsers:\n",
    "                # no es comparem amb nosaltres mateixos\n",
    "                if person1==person2: continue\n",
    "                self.sim.setdefault(person2, {})\n",
    "                if(person1 in self.sim[person2]):continue # since is a simetric matrix\n",
    "                sim=self.sim_method(data_reduced,person1,person2)\n",
    "                if(sim<0):\n",
    "                    self.sim[person1][person2]=0\n",
    "                    self.sim[person2][person1]=0\n",
    "                else:\n",
    "                    self.sim[person1][person2]=sim\n",
    "                    self.sim[person2][person1]=sim\n",
    "                \n",
    "    def estimate(self, user_id, movie_id, user_sim_thres):\n",
    "        totals={}\n",
    "        movie_users=self.df[self.df['movie_id'] ==movie_id]\n",
    "        rating_num=0.0\n",
    "        rating_den=0.0\n",
    "        allUsers=set(movie_users['user_id'])\n",
    "        #HA DE COMPROVAR QUE HAN VIST LA PELI PER NO RETORNAR UNA LLISTA BUIDA\n",
    "        sortedUsers =sorted([(user,self.sim[user_id][user]) for user in movie_users], reverse=True)\n",
    "          \n",
    "        if len(sortedUsers) > user_sim_thres:\n",
    "            sortedUsers = sortedUsers[:user_sim_thres]\n",
    "            \n",
    "        sortedUsers = set(sortedUsers)\n",
    "        \n",
    "        for other in sortedUsers:\n",
    "            if user_id==other: continue   \n",
    "            rating_num += self.sim[user_id][other] * float(movie_users[movie_users['user_id']==other]['rating']) #-float(movie_users[movie_users['user_id']==other]['rating'].mean()))\n",
    "            rating_den += self.sim[user_id][other]\n",
    "        if rating_den==0: \n",
    "            if self.df.rating[self.df['movie_id']==movie_id].mean()>0:\n",
    "                # return the mean movie rating if there is no similar for the computation\n",
    "                return self.df.rating[self.df['movie_id']==movie_id].mean()\n",
    "            else:\n",
    "                # else return mean user rating \n",
    "                return self.df.rating[self.df['user_id']==user_id].mean()\n",
    "        return self.df.rating[self.df['user_id']==user_id].mean() + rating_num/rating_den\n",
    "    "
   ]
  },
  {
   "cell_type": "code",
   "execution_count": 175,
   "metadata": {},
   "outputs": [],
   "source": [
    "reco3 = CollaborativeFiltering3(dataSmall_train,similarity=SimPearson)\n",
    "df = reco3.learn()\n"
   ]
  },
  {
   "cell_type": "code",
   "execution_count": 176,
   "metadata": {
    "scrolled": true
   },
   "outputs": [
    {
     "ename": "KeyError",
     "evalue": "'user_id'",
     "output_type": "error",
     "traceback": [
      "\u001b[0;31m---------------------------------------------------------------------------\u001b[0m",
      "\u001b[0;31mKeyError\u001b[0m                                  Traceback (most recent call last)",
      "\u001b[0;32m<ipython-input-176-c35fa92e6b29>\u001b[0m in \u001b[0;36m<module>\u001b[0;34m\u001b[0m\n\u001b[0;32m----> 1\u001b[0;31m \u001b[0mreco3\u001b[0m\u001b[0;34m.\u001b[0m\u001b[0mestimate\u001b[0m\u001b[0;34m(\u001b[0m\u001b[0muser_id\u001b[0m\u001b[0;34m=\u001b[0m\u001b[0;36m3\u001b[0m\u001b[0;34m,\u001b[0m\u001b[0mmovie_id\u001b[0m\u001b[0;34m=\u001b[0m\u001b[0;36m1\u001b[0m\u001b[0;34m,\u001b[0m \u001b[0muser_sim_thres\u001b[0m\u001b[0;34m=\u001b[0m\u001b[0;36m10\u001b[0m\u001b[0;34m)\u001b[0m\u001b[0;34m\u001b[0m\u001b[0;34m\u001b[0m\u001b[0m\n\u001b[0m",
      "\u001b[0;32m<ipython-input-170-50ea6c424b0a>\u001b[0m in \u001b[0;36mestimate\u001b[0;34m(self, user_id, movie_id, user_sim_thres)\u001b[0m\n\u001b[1;32m     39\u001b[0m         \u001b[0mallUsers\u001b[0m\u001b[0;34m=\u001b[0m\u001b[0mset\u001b[0m\u001b[0;34m(\u001b[0m\u001b[0mmovie_users\u001b[0m\u001b[0;34m[\u001b[0m\u001b[0;34m'user_id'\u001b[0m\u001b[0;34m]\u001b[0m\u001b[0;34m)\u001b[0m\u001b[0;34m\u001b[0m\u001b[0;34m\u001b[0m\u001b[0m\n\u001b[1;32m     40\u001b[0m         \u001b[0;31m#HA DE COMPROVAR QUE HAN VIST LA PELI PER NO RETORNAR UNA LLISTA BUIDA\u001b[0m\u001b[0;34m\u001b[0m\u001b[0;34m\u001b[0m\u001b[0;34m\u001b[0m\u001b[0m\n\u001b[0;32m---> 41\u001b[0;31m         \u001b[0msortedUsers\u001b[0m \u001b[0;34m=\u001b[0m\u001b[0msorted\u001b[0m\u001b[0;34m(\u001b[0m\u001b[0;34m[\u001b[0m\u001b[0;34m(\u001b[0m\u001b[0muser\u001b[0m\u001b[0;34m,\u001b[0m\u001b[0mself\u001b[0m\u001b[0;34m.\u001b[0m\u001b[0msim\u001b[0m\u001b[0;34m[\u001b[0m\u001b[0;34m'user_id'\u001b[0m\u001b[0;34m]\u001b[0m\u001b[0;34m[\u001b[0m\u001b[0muser\u001b[0m\u001b[0;34m]\u001b[0m\u001b[0;34m)\u001b[0m \u001b[0;32mfor\u001b[0m \u001b[0muser\u001b[0m \u001b[0;32min\u001b[0m \u001b[0mmovie_users\u001b[0m\u001b[0;34m]\u001b[0m\u001b[0;34m,\u001b[0m \u001b[0mreverse\u001b[0m\u001b[0;34m=\u001b[0m\u001b[0;32mTrue\u001b[0m\u001b[0;34m)\u001b[0m\u001b[0;34m\u001b[0m\u001b[0;34m\u001b[0m\u001b[0m\n\u001b[0m\u001b[1;32m     42\u001b[0m \u001b[0;34m\u001b[0m\u001b[0m\n\u001b[1;32m     43\u001b[0m         \u001b[0;32mif\u001b[0m \u001b[0mlen\u001b[0m\u001b[0;34m(\u001b[0m\u001b[0msortedUsers\u001b[0m\u001b[0;34m)\u001b[0m \u001b[0;34m>\u001b[0m \u001b[0muser_sim_thres\u001b[0m\u001b[0;34m:\u001b[0m\u001b[0;34m\u001b[0m\u001b[0;34m\u001b[0m\u001b[0m\n",
      "\u001b[0;32m<ipython-input-170-50ea6c424b0a>\u001b[0m in \u001b[0;36m<listcomp>\u001b[0;34m(.0)\u001b[0m\n\u001b[1;32m     39\u001b[0m         \u001b[0mallUsers\u001b[0m\u001b[0;34m=\u001b[0m\u001b[0mset\u001b[0m\u001b[0;34m(\u001b[0m\u001b[0mmovie_users\u001b[0m\u001b[0;34m[\u001b[0m\u001b[0;34m'user_id'\u001b[0m\u001b[0;34m]\u001b[0m\u001b[0;34m)\u001b[0m\u001b[0;34m\u001b[0m\u001b[0;34m\u001b[0m\u001b[0m\n\u001b[1;32m     40\u001b[0m         \u001b[0;31m#HA DE COMPROVAR QUE HAN VIST LA PELI PER NO RETORNAR UNA LLISTA BUIDA\u001b[0m\u001b[0;34m\u001b[0m\u001b[0;34m\u001b[0m\u001b[0;34m\u001b[0m\u001b[0m\n\u001b[0;32m---> 41\u001b[0;31m         \u001b[0msortedUsers\u001b[0m \u001b[0;34m=\u001b[0m\u001b[0msorted\u001b[0m\u001b[0;34m(\u001b[0m\u001b[0;34m[\u001b[0m\u001b[0;34m(\u001b[0m\u001b[0muser\u001b[0m\u001b[0;34m,\u001b[0m\u001b[0mself\u001b[0m\u001b[0;34m.\u001b[0m\u001b[0msim\u001b[0m\u001b[0;34m[\u001b[0m\u001b[0;34m'user_id'\u001b[0m\u001b[0;34m]\u001b[0m\u001b[0;34m[\u001b[0m\u001b[0muser\u001b[0m\u001b[0;34m]\u001b[0m\u001b[0;34m)\u001b[0m \u001b[0;32mfor\u001b[0m \u001b[0muser\u001b[0m \u001b[0;32min\u001b[0m \u001b[0mmovie_users\u001b[0m\u001b[0;34m]\u001b[0m\u001b[0;34m,\u001b[0m \u001b[0mreverse\u001b[0m\u001b[0;34m=\u001b[0m\u001b[0;32mTrue\u001b[0m\u001b[0;34m)\u001b[0m\u001b[0;34m\u001b[0m\u001b[0;34m\u001b[0m\u001b[0m\n\u001b[0m\u001b[1;32m     42\u001b[0m \u001b[0;34m\u001b[0m\u001b[0m\n\u001b[1;32m     43\u001b[0m         \u001b[0;32mif\u001b[0m \u001b[0mlen\u001b[0m\u001b[0;34m(\u001b[0m\u001b[0msortedUsers\u001b[0m\u001b[0;34m)\u001b[0m \u001b[0;34m>\u001b[0m \u001b[0muser_sim_thres\u001b[0m\u001b[0;34m:\u001b[0m\u001b[0;34m\u001b[0m\u001b[0;34m\u001b[0m\u001b[0m\n",
      "\u001b[0;31mKeyError\u001b[0m: 'user_id'"
     ]
    }
   ],
   "source": [
    "reco3.estimate(user_id=3,movie_id=1, user_sim_thres=10)"
   ]
  },
  {
   "cell_type": "code",
   "execution_count": null,
   "metadata": {},
   "outputs": [],
   "source": [
    "print('RMSE for Collaborative Recomender: %s' % evaluate(reco3.estimate,dataSmall_train,dataSmall_test))"
   ]
  },
  {
   "cell_type": "markdown",
   "metadata": {},
   "source": [
    "<div class  = \"alert alert-success\">**EXERCISE 3**<p>\n",
    "Modify the similarity function with the following:\n",
    "$$new\\_sim(a,b) = sim(a,b) * \\frac{min(50,|P_{ab}|)}{50} $$\n",
    "where $|P_{ab}|$ is the number of common items with user $a$ and user $b$\n",
    "</div>"
   ]
  },
  {
   "cell_type": "code",
   "execution_count": 34,
   "metadata": {},
   "outputs": [],
   "source": [
    "class CollaborativeFiltering4:\n",
    "    \"\"\" Collaborative filtering using a custom sim(u,u'). \"\"\"\n",
    "    \n",
    "    def __init__(self,DataFrame, similarity=SimPearson, min_common_items=1, num_com_items = 50):\n",
    "        \"\"\" Constructor \"\"\"\n",
    "        print(\"not implemented yet\")\n",
    "\n",
    "    def learn(self):\n",
    "        \"\"\" Prepare data structures for estimation. Similarity matrix for users \"\"\"\n",
    "        print(\"not implemented yet\")\n",
    "                \n",
    "    def estimate(self, user_id, movie_id):\n",
    "        '''not implemented yet'''\n",
    "        return 3.5"
   ]
  },
  {
   "cell_type": "code",
   "execution_count": 35,
   "metadata": {},
   "outputs": [
    {
     "name": "stdout",
     "output_type": "stream",
     "text": [
      "not implemented yet\n",
      "not implemented yet\n"
     ]
    },
    {
     "data": {
      "text/plain": [
       "3.5"
      ]
     },
     "execution_count": 35,
     "metadata": {},
     "output_type": "execute_result"
    }
   ],
   "source": [
    "reco4 = CollaborativeFiltering4(dataSmall_train,similarity = SimPearson, num_com_items = 10)\n",
    "reco4.learn()\n",
    "reco4.estimate(user_id=2,movie_id=1)"
   ]
  },
  {
   "cell_type": "code",
   "execution_count": null,
   "metadata": {},
   "outputs": [],
   "source": []
  },
  {
   "cell_type": "code",
   "execution_count": 36,
   "metadata": {},
   "outputs": [
    {
     "name": "stdout",
     "output_type": "stream",
     "text": [
      "RMSE for Collaborative Recomender: 1.2568219575778063\n"
     ]
    }
   ],
   "source": [
    "print('RMSE for Collaborative Recomender: %s' % evaluate(reco4.estimate,dataSmall_train,dataSmall_test))"
   ]
  },
  {
   "cell_type": "markdown",
   "metadata": {
    "collapsed": true
   },
   "source": [
    "<div class=\"alert alert-success\">\n",
    "**EXERCISE 5:**\n",
    "Create an item-based recommender system. <br>Instead of computing similiarity between users we need to compute similarities between items. \n",
    "</div>"
   ]
  },
  {
   "cell_type": "code",
   "execution_count": 37,
   "metadata": {},
   "outputs": [],
   "source": [
    "class CollaborativeFilteringItemBased:\n",
    "    \"\"\" Collaborative filtering using a custom sim(u,u'). \"\"\"\n",
    "    \n",
    "    def __init__(self,DataFrame, similarity=SimPearson):\n",
    "        \"\"\" Constructor \"\"\"\n",
    "        print(\"not implemented yet\")\n",
    "\n",
    "    def learn(self):\n",
    "        \"\"\" Prepare data structures for estimation. Similarity matrix for users \"\"\"\n",
    "        print(\"not implemented yet\")\n",
    "                \n",
    "    def estimate(self, user_id, movie_id):\n",
    "        '''not implemented yet'''\n",
    "        return 3.5"
   ]
  },
  {
   "cell_type": "code",
   "execution_count": 38,
   "metadata": {},
   "outputs": [
    {
     "name": "stdout",
     "output_type": "stream",
     "text": [
      "not implemented yet\n",
      "not implemented yet\n"
     ]
    },
    {
     "data": {
      "text/plain": [
       "3.5"
      ]
     },
     "execution_count": 38,
     "metadata": {},
     "output_type": "execute_result"
    }
   ],
   "source": [
    "reco5 = CollaborativeFilteringItemBased(dataSmall_train,similarity = SimPearson)\n",
    "reco5.learn()\n",
    "reco5.estimate(user_id=2,movie_id=1)"
   ]
  },
  {
   "cell_type": "code",
   "execution_count": 39,
   "metadata": {},
   "outputs": [
    {
     "name": "stdout",
     "output_type": "stream",
     "text": [
      "RMSE for Collaborative Recomender: 1.2568219575778063\n"
     ]
    }
   ],
   "source": [
    "print('RMSE for Collaborative Recomender: %s' % evaluate(reco5.estimate,dataSmall_train,dataSmall_test))"
   ]
  },
  {
   "cell_type": "markdown",
   "metadata": {},
   "source": [
    "<div class=\"alert alert-info\" style = \"border-radius:10px;border-width:3px;border-color:darkblue;font-family:Verdana,sans-serif;font-size:16px;\">\n",
    "<h3>Evaluating Recommender systems.</h3>\n",
    "Another way than RMSE?\n",
    "</div>\n",
    "\n",
    "There exist several ways to evaluate a recommender system. Ones of the most populars are RMSE and MAE. However, these metrics do not really measure the user experience. \n",
    "\n",
    "Top-N performance metric can be also used and in fact, the evaluation with this metric is more closer to what is important for the user, just those top recommendations.\n",
    "<br>\n",
    "\n",
    "<div class=\"alert alert-success\">\n",
    "**EXERCISE 6:** (OPTIONAL)\n",
    "    \n",
    "Create a new method in the recommendetion class that returns the TOP N recomendations for a user.</div>"
   ]
  },
  {
   "cell_type": "code",
   "execution_count": 40,
   "metadata": {},
   "outputs": [],
   "source": [
    "class CollaborativeFiltering:\n",
    "    \"\"\" Collaborative filtering using a custom sim(u,u'). \"\"\"\n",
    "    \n",
    "    def __init__(self,DataFrame, similarity=SimPearson):\n",
    "        \"\"\" Constructor \"\"\"\n",
    "        self.sim_method=similarity# Gets recommendations for a person by using a weighted average\n",
    "        self.df=DataFrame\n",
    "        self.sim = pd.DataFrame(np.sum([0]),columns=data_train.user_id.unique(), index=data_train.user_id.unique())\n",
    "\n",
    "    def learn(self):\n",
    "        \"\"\" Prepare data structures for estimation. Similarity matrix for users \"\"\"\n",
    "        allUsers=set(self.df['user_id'])\n",
    "        self.sim = {}\n",
    "        for person1 in allUsers:\n",
    "            self.sim.setdefault(person1, {})\n",
    "            a=self.df[self.df['user_id']==person1][['movie_id']]\n",
    "            data_reduced=pd.merge(self.df,a,on='movie_id')\n",
    "            for person2 in allUsers:\n",
    "                # no es comparem am nosalres mateixos\n",
    "                if person1==person2: continue\n",
    "                self.sim.setdefault(person2, {})\n",
    "                if(person1 in self.sim[person2]):continue # since is a simetric matrix\n",
    "                sim=self.sim_method(data_reduced,person1,person2)\n",
    "                if(sim<0):\n",
    "                    self.sim[person1][person2]=0\n",
    "                    self.sim[person2][person1]=0\n",
    "                else:\n",
    "                    self.sim[person1][person2]=sim\n",
    "                    self.sim[person2][person1]=sim\n",
    "                \n",
    "    def estimate(self, user_id, movie_id):\n",
    "        totals={}\n",
    "        movie_users=self.df[self.df['movie_id'] ==movie_id]\n",
    "        rating_num=0.0\n",
    "        rating_den=0.0\n",
    "        allUsers=set(movie_users['user_id'])\n",
    "        for other in allUsers:\n",
    "            if user_id==other: continue \n",
    "            rating_num += self.sim[user_id][other] * float(movie_users[movie_users['user_id']==other]['rating'])\n",
    "            rating_den += self.sim[user_id][other]\n",
    "        if rating_den==0: \n",
    "            if self.df.rating[self.df['movie_id']==movie_id].mean()>0:\n",
    "                # return the mean movie rating if there is no similar for the computation\n",
    "                return self.df.rating[self.df['movie_id']==movie_id].mean()\n",
    "            else:\n",
    "                # else return mean user rating \n",
    "                return self.df.rating[self.df['user_id']==user_id].mean()\n",
    "        return rating_num/rating_den\n",
    "    \n",
    "    def getTopMovies(self,user_id,N = 10):\n",
    "        print(\"not implemented yet\")"
   ]
  },
  {
   "cell_type": "code",
   "execution_count": null,
   "metadata": {},
   "outputs": [],
   "source": []
  }
 ],
 "metadata": {
  "anaconda-cloud": {},
  "kernelspec": {
   "display_name": "Python 3",
   "language": "python",
   "name": "python3"
  },
  "language_info": {
   "codemirror_mode": {
    "name": "ipython",
    "version": 3
   },
   "file_extension": ".py",
   "mimetype": "text/x-python",
   "name": "python",
   "nbconvert_exporter": "python",
   "pygments_lexer": "ipython3",
   "version": "3.7.4"
  }
 },
 "nbformat": 4,
 "nbformat_minor": 1
}
